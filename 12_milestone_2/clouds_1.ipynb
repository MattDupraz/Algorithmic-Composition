{
 "cells": [
  {
   "cell_type": "markdown",
   "metadata": {},
   "source": [
    "# Milestone 2 : cloud of points"
   ]
  },
  {
   "cell_type": "code",
   "execution_count": 1,
   "metadata": {},
   "outputs": [],
   "source": [
    "import random                  \n",
    "from fractions import Fraction\n",
    "import copy\n",
    "\n",
    "import numpy as np\n",
    "import pandas as pd\n",
    "from music21 import *\n",
    "\n",
    "def play(stream):\n",
    "    \"\"\"Shortcut to play a stream\"\"\"\n",
    "    midi.realtime.StreamPlayer(stream).play()"
   ]
  },
  {
   "cell_type": "markdown",
   "metadata": {},
   "source": [
    "## Introduction "
   ]
  },
  {
   "cell_type": "markdown",
   "metadata": {},
   "source": [
    "The idea is to create a mass of little musical even comparable to a musical cloud of points. One point = one musical event."
   ]
  },
  {
   "cell_type": "code",
   "execution_count": 2,
   "metadata": {},
   "outputs": [
    {
     "data": {
      "image/png": "[encoded data removed]",
      "text/plain": [
       "<IPython.core.display.Image object>"
      ]
     },
     "metadata": {
      "image/png": {
       "height": 49,
       "width": 674
      }
     },
     "output_type": "display_data"
    },
    {
     "name": "stdout",
     "output_type": "stream",
     "text": [
      "pygame 2.0.1 (SDL 2.0.14, Python 3.8.8)\n",
      "Hello from the pygame community. https://www.pygame.org/contribute.html\n"
     ]
    }
   ],
   "source": [
    "# Initialising a stream\n",
    "stream1 = stream.Stream()\n",
    "\n",
    "# Initialising one main note\n",
    "UNIT = 0.25\n",
    "main_note = note.Note(pitch = 'C5', quarterLength=UNIT)\n",
    "\n",
    "# Initialising basis stream\n",
    "stream1.repeatAppend(main_note, int(4/UNIT))\n",
    "stream1.show()\n",
    "\n",
    "\n",
    "play(stream1)"
   ]
  },
  {
   "cell_type": "markdown",
   "metadata": {},
   "source": [
    "Now the idea is to randomely change the notes pitches around the main note. Changes can be microtonal changes, or changes in a tonal system. Lets start with microtonal changes."
   ]
  },
  {
   "cell_type": "markdown",
   "metadata": {},
   "source": [
    "### Microtonal cloud of point "
   ]
  },
  {
   "cell_type": "code",
   "execution_count": 3,
   "metadata": {},
   "outputs": [],
   "source": [
    "# Lower and upper variation limits\n",
    "low = -500\n",
    "up = 500\n",
    "\n",
    "stream2 = copy.deepcopy(stream1)\n",
    "\n",
    "# Detuning\n",
    "for n in stream2:\n",
    "    n.pitch.microtone = random.randint(low, up)\n",
    "\n",
    "play(stream2)"
   ]
  },
  {
   "cell_type": "markdown",
   "metadata": {},
   "source": [
    "Sounds ok but we do not hear one main note, altough there is one. What we can do is to change the probability rule that detunes the notes. It is more inteligent, so that we can have the feeling of a cloud of point, to use a gaussian distribution. \n",
    "\n",
    "We also want to hear at the very begining some note that arn't to distorded so that we can understand from the begining which note is the main (mean) note."
   ]
  },
  {
   "cell_type": "code",
   "execution_count": 4,
   "metadata": {},
   "outputs": [],
   "source": [
    "# Dispersion and mean of the variation\n",
    "mean = 0\n",
    "dispersion = 150\n",
    "# Start of the detuning\n",
    "start = 2\n",
    "\n",
    "stream2 = copy.deepcopy(stream1)\n",
    "endId = len(stream2.elements)\n",
    "\n",
    "# Detuning\n",
    "for i in range(start,endId):\n",
    "    stream2.elements[i].pitch.microtone = random.gauss(mean, dispersion)\n",
    "\n",
    "play(stream2)"
   ]
  },
  {
   "cell_type": "markdown",
   "metadata": {},
   "source": [
    "We also could try with other probabilities density function, for example a triangle :"
   ]
  },
  {
   "cell_type": "code",
   "execution_count": 5,
   "metadata": {},
   "outputs": [],
   "source": [
    "# Dispersion and mean of the variation\n",
    "low = -500\n",
    "mean = 0\n",
    "up = 500\n",
    "\n",
    "stream2 = copy.deepcopy(stream1)\n",
    "\n",
    "# Detuning\n",
    "for i in range(start,endId):\n",
    "    stream2.elements[i].pitch.microtone = random.triangular(low, up, mean)\n",
    "\n",
    "play(stream2)"
   ]
  },
  {
   "cell_type": "markdown",
   "metadata": {},
   "source": [
    "It is then very easy, if we are not satisfied with those pdf to implement other probabilities laws."
   ]
  },
  {
   "cell_type": "markdown",
   "metadata": {},
   "source": [
    "### Tonale cloud of point "
   ]
  },
  {
   "cell_type": "markdown",
   "metadata": {},
   "source": [
    "The idea is now to try what cloud of point give in a definite tonal system i.e the notes are no longer randomly detuned, but randomly shifted from precise intervales. There are many way to do this : \n",
    "- Taking the europeean 12 semitones system without taking any precise scale, and shifting the note from a certain quantity of semitones\n",
    "- Taking one definite scale and only choosing note from this scale\n",
    "- Taking one definite scale, a chord progression in this scale, and choosing notes from the current chord of the progression\n",
    "- Same as previously, but other notes are also played with lower probabilities"
   ]
  },
  {
   "cell_type": "markdown",
   "metadata": {},
   "source": [
    "Let's begin with the semitones system :"
   ]
  },
  {
   "cell_type": "code",
   "execution_count": 6,
   "metadata": {},
   "outputs": [],
   "source": [
    "# Dispersion and mean of the variation\n",
    "mean = 0\n",
    "dispersion = 3\n",
    "# Start of the detuning\n",
    "start = 1\n",
    "\n",
    "stream2 = copy.deepcopy(stream1)\n",
    "endId = len(stream2.elements)\n",
    "\n",
    "# Detuning\n",
    "for i in range(start,endId):\n",
    "    stream2.elements[i].pitch.midi += int(random.gauss(mean, dispersion))\n",
    "\n",
    "\n",
    "play(stream2)"
   ]
  },
  {
   "cell_type": "markdown",
   "metadata": {},
   "source": [
    "Once again, it can be implemented with a triangular pdf :"
   ]
  },
  {
   "cell_type": "code",
   "execution_count": 7,
   "metadata": {},
   "outputs": [],
   "source": [
    "# Dispersion and mean of the variation\n",
    "low = -5\n",
    "mean = 0\n",
    "up = 5\n",
    "\n",
    "stream2 = copy.deepcopy(stream1)\n",
    "\n",
    "# Detuning\n",
    "for i in range(start,endId):\n",
    "    stream2.elements[i].pitch.midi += int(random.triangular(low, up, mean))\n",
    "\n",
    "\n",
    "play(stream2)"
   ]
  },
  {
   "cell_type": "markdown",
   "metadata": {},
   "source": [
    "The triangular pdf has the possibility to be not symmetric : it could be usefull to define the different lower and upper limit according to the tendanci of the melody  (if it is going up or down)."
   ]
  },
  {
   "cell_type": "code",
   "execution_count": 8,
   "metadata": {},
   "outputs": [
    {
     "data": {
      "text/plain": [
       "' \"\"\"Define a general cloud of point generator\"\"\"\\n    def __init__(self, pdf = PDF.GAUSSIAN):\\n        \"\"\"Initialize the type of probability density function. By default : GAUSSIAN\"\"\"\\n        self.PDF = pdf\\n        \\n    def get_type(self):\\n        \"\"\"Gives the type of probability density function of this object.\"\"\"\\n        print(self.PDF.name)\\n        \\n    def change_type(self, pdf):\\n        \"\"\"Changes the type of probability density function of this object.\"\"\"\\n        self.PDF = pdf    '"
      ]
     },
     "execution_count": 8,
     "metadata": {},
     "output_type": "execute_result"
    }
   ],
   "source": [
    "# from enum import Enum\n",
    "# Defining types of probilitie density functions\n",
    "# PDF = Enum(\"PDF\", \"TRIANGLE GAUSSIAN\")\n",
    "\n",
    "class CloudPointGenerator:\n",
    "    pass\n",
    "''' \"\"\"Define a general cloud of point generator\"\"\"\n",
    "    def __init__(self, pdf = PDF.GAUSSIAN):\n",
    "        \"\"\"Initialize the type of probability density function. By default : GAUSSIAN\"\"\"\n",
    "        self.PDF = pdf\n",
    "        \n",
    "    def get_type(self):\n",
    "        \"\"\"Gives the type of probability density function of this object.\"\"\"\n",
    "        print(self.PDF.name)\n",
    "        \n",
    "    def change_type(self, pdf):\n",
    "        \"\"\"Changes the type of probability density function of this object.\"\"\"\n",
    "        self.PDF = pdf    '''    \n"
   ]
  },
  {
   "cell_type": "markdown",
   "metadata": {},
   "source": [
    "But actually this is not really a cloud of points since it misses one dimension : the up and down dimension."
   ]
  },
  {
   "cell_type": "markdown",
   "metadata": {},
   "source": [
    "\n",
    "\n",
    "# Another approach"
   ]
  },
  {
   "cell_type": "markdown",
   "metadata": {},
   "source": [
    "\n",
    "One point stills represent one musciale event but we will try to bombard a region of the $xy$ plane, and then associate the $x$-axis to time, and $y$-axis to pitch."
   ]
  },
  {
   "cell_type": "code",
   "execution_count": 9,
   "metadata": {},
   "outputs": [
    {
     "data": {
      "image/png": "[encoded data removed]",
      "text/plain": [
       "<Figure size 432x288 with 1 Axes>"
      ]
     },
     "metadata": {
      "image/png": {
       "height": 248,
       "width": 383
      },
      "needs_background": "light"
     },
     "output_type": "display_data"
    }
   ],
   "source": [
    "import matplotlib.pyplot as plt\n",
    "# Defining the number of points\n",
    "NUMBER_OF_POINT = 40\n",
    "\n",
    "# We are taking here 4/4 as time signature. x_up = 4 allows to identify each integer to a beat\n",
    "x_up = 4\n",
    "mean = 0\n",
    "dispersion = 100\n",
    "\n",
    "\n",
    "def shoot(NUMBER_OF_POINT, x_up, mean, dispersion):\n",
    "    \"\"\"Shoots some random point onf the [0, x_up] x R domaine onf the plane.\"\"\"\n",
    "    points = []\n",
    "    for i in range(NUMBER_OF_POINT):\n",
    "        x = random.uniform(0,x_up)\n",
    "        y = random.gauss(mean, dispersion)\n",
    "        points.append([x, y])\n",
    "    for point in points:\n",
    "        plt.scatter(point[0], point[1])\n",
    "    \n",
    "    return points\n",
    "\n",
    "points = shoot(NUMBER_OF_POINT, x_up, mean, dispersion)"
   ]
  },
  {
   "cell_type": "markdown",
   "metadata": {},
   "source": [
    "We have to chose how to associate those beautifull point to sounds. \n",
    "\n",
    "For the rythm, we can pick up a small beat unit (define as a fraction of a quarter), discretize the interval $[0, x_{up}]$ and play all dot in the column were they are."
   ]
  },
  {
   "cell_type": "code",
   "execution_count": 10,
   "metadata": {},
   "outputs": [],
   "source": [
    "# RHYTHM \n",
    "UNIT = 0.25 # of a quarter\n",
    "\n",
    "def discretize(points, UNIT):\n",
    "    \"\"\"Collects each values of y in slices of lenght UNIT of a quarter note.\"\"\"\n",
    "    # Initializing a vector of good size\n",
    "    discretized_point = []\n",
    "    for i in range(int(x_up/UNIT)):\n",
    "        discretized_point.append([])\n",
    "        \n",
    "    # Distrectizing\n",
    "    for point in points:\n",
    "        i = 0\n",
    "        while point[0] > (i+1)*UNIT:\n",
    "            i += 1\n",
    "        discretized_point[i].append(point[1])\n",
    "    \n",
    "    return discretized_point\n",
    "\n",
    "discretized_point = discretize(points, UNIT)"
   ]
  },
  {
   "cell_type": "markdown",
   "metadata": {},
   "source": [
    "One way to do this is to associate $y=0$ to a main note (as before) and define the variation in high as variations in pitches. "
   ]
  },
  {
   "cell_type": "markdown",
   "metadata": {},
   "source": [
    "### Microtonal variations"
   ]
  },
  {
   "cell_type": "code",
   "execution_count": 11,
   "metadata": {},
   "outputs": [],
   "source": [
    "# PITCHES\n",
    "MAIN_NOTE = note.Note(pitch = 'C5', quarterLength=UNIT)\n",
    "\n",
    "def get_microtonal_Notes(MAIN_NOTE, discretized_point):\n",
    "    m = stream.Measure()\n",
    "\n",
    "    for event in discretized_point:\n",
    "        for i in range(len(event)):\n",
    "            # Transforming number into notes with variations\n",
    "            variation = event[i]\n",
    "            event[i] = copy.deepcopy(MAIN_NOTE)\n",
    "            event[i].pitch.microtone = variation\n",
    "        # adding a chord made of the ste of note of each event to the measure\n",
    "        m.append(chord.Chord([x for x in event]))\n",
    "\n",
    "    return m\n",
    "\n",
    "m = stream.Measure()\n",
    "m = get_microtonal_Notes(MAIN_NOTE, discretized_point)\n",
    "\n",
    "play(m)"
   ]
  },
  {
   "cell_type": "markdown",
   "metadata": {},
   "source": [
    "So basecally this works but sound horrible !! In such an approach, it is necessary to have at least a chromatic system."
   ]
  },
  {
   "cell_type": "markdown",
   "metadata": {},
   "source": [
    "### Chromatic system"
   ]
  },
  {
   "cell_type": "code",
   "execution_count": 12,
   "metadata": {},
   "outputs": [],
   "source": [
    "def get_chromatic_Notes(MAIN_NOTE, discretized_point):\n",
    "    m = stream.Measure()\n",
    "\n",
    "    for event in discretized_point:\n",
    "        for i in range(len(event)):\n",
    "            # Transforming number into notes with variations\n",
    "            variation = event[i]\n",
    "            event[i] = copy.deepcopy(MAIN_NOTE)\n",
    "            event[i].pitch.midi += int(variation)\n",
    "        # adding a chord made of the ste of note of each event to the measure\n",
    "        m.append(chord.Chord([x for x in event]))\n",
    "\n",
    "    return m"
   ]
  },
  {
   "cell_type": "code",
   "execution_count": 13,
   "metadata": {},
   "outputs": [
    {
     "data": {
      "image/png": "[encoded data removed]",
      "text/plain": [
       "<Figure size 432x288 with 1 Axes>"
      ]
     },
     "metadata": {
      "image/png": {
       "height": 248,
       "width": 370
      },
      "needs_background": "light"
     },
     "output_type": "display_data"
    }
   ],
   "source": [
    "# Defining the number of points\n",
    "NUMBER_OF_POINT = 20\n",
    "\n",
    "# We are taking here 4/4 as time signature. x_up = 4 allows to identify each integer to a beat\n",
    "x_up = 4\n",
    "mean = 0\n",
    "dispersion = 2\n",
    "\n",
    "points = shoot(NUMBER_OF_POINT, x_up, mean, dispersion)\n",
    "\n",
    "UNIT = 0.25 # of a quarter\n",
    "\n",
    "discretized_point = discretize(points, UNIT)\n",
    "    \n",
    "\n",
    "MAIN_NOTE = note.Note(pitch = 'C5', quarterLength=UNIT)\n",
    "\n",
    "m = stream.Measure()\n",
    "m = get_chromatic_Notes(MAIN_NOTE, discretized_point)\n",
    "\n",
    "play(m)"
   ]
  },
  {
   "cell_type": "markdown",
   "metadata": {},
   "source": [
    "Still don't sound awesome enought. "
   ]
  },
  {
   "cell_type": "markdown",
   "metadata": {},
   "source": [
    "### Scaled system"
   ]
  },
  {
   "cell_type": "markdown",
   "metadata": {},
   "source": [
    "For this part we got to create scales. Scales are vectors of integer, where each integer represent the number of semitones before next note."
   ]
  },
  {
   "cell_type": "code",
   "execution_count": 14,
   "metadata": {},
   "outputs": [
    {
     "data": {
      "image/png": "[encoded data removed]",
      "text/plain": [
       "<IPython.core.display.Image object>"
      ]
     },
     "metadata": {
      "image/png": {
       "height": 53,
       "width": 674
      }
     },
     "output_type": "display_data"
    }
   ],
   "source": [
    "def select_from_chromatic(intervals, root = note.Note(pitch='C')):\n",
    "    \"\"\"Selects pitches from a chromatic collection based on a set of intervals\"\"\"\n",
    "    return [note.Note(pitch = root.pitch.midi + x) for x in [0]+[sum(intervals[:i+1]) for i in range(len(intervals))]]\n",
    "\n",
    "MAJOR = [2, 2, 1, 2, 2, 2, 1]\n",
    "m = stream.Measure()\n",
    "m.append(select_from_chromatic(MAJOR))\n",
    "\n",
    "play(m)\n",
    "m.show()\n",
    "\n",
    "def rotate_list(l, n):\n",
    "    \"\"\"rotate list l by n steps\"\"\"\n",
    "    return l[n:] + l[:n]\n",
    "\n",
    "def select_mode(mode, root, scale = MAJOR):\n",
    "    \"\"\"select a mode based on a root\"\"\"\n",
    "    return select_from_chromatic(rotate_list(scale, mode), root)"
   ]
  },
  {
   "cell_type": "code",
   "execution_count": 15,
   "metadata": {},
   "outputs": [],
   "source": [
    "def get_scale_Notes(MAIN_NOTE, scale, discretized_point):\n",
    "    m = stream.Measure()\n",
    "    notes = select_from_chromatic(scale, MAIN_NOTE)\n",
    "\n",
    "    for event in discretized_point:\n",
    "        for i in range(len(event)):\n",
    "            # Transforming number into indices\n",
    "            indice = int(event[i])\n",
    "            # Taking a note in the scale according to an indice\n",
    "            event[i] = notes[indice % len(notes)]\n",
    "            # Do an adaptation for the octaviation\n",
    "            event[i].pitch.midi += (indice//len(notes))*12\n",
    "        # adding a chord made of the ste of note of each event to the measure\n",
    "        m.append(chord.Chord([x for x in event]))\n",
    "\n",
    "    return m"
   ]
  },
  {
   "cell_type": "code",
   "execution_count": 18,
   "metadata": {},
   "outputs": [
    {
     "data": {
      "image/png": "[encoded data removed]",
      "text/plain": [
       "<Figure size 432x288 with 1 Axes>"
      ]
     },
     "metadata": {
      "image/png": {
       "height": 248,
       "width": 370
      },
      "needs_background": "light"
     },
     "output_type": "display_data"
    }
   ],
   "source": [
    "# Defining the number of points\n",
    "NUMBER_OF_POINT = 50\n",
    "\n",
    "# We are taking here 4/4 as time signature. x_up = 4 allows to identify each integer to a beat\n",
    "x_up = 4\n",
    "mean = 0\n",
    "dispersion = 2\n",
    "\n",
    "points = shoot(NUMBER_OF_POINT, x_up, mean, dispersion)\n",
    "\n",
    "UNIT = 0.25 # of a quarter\n",
    "\n",
    "discretized_point = discretize(points, UNIT)\n",
    "    \n",
    "\n",
    "MAIN_NOTE = note.Note(pitch = 'C5', quarterLength=UNIT)\n",
    "\n",
    "m = stream.Measure()\n",
    "m = get_scale_Notes(MAIN_NOTE, MAJOR, discretized_point)\n",
    "\n",
    "play(m)"
   ]
  },
  {
   "cell_type": "code",
   "execution_count": null,
   "metadata": {},
   "outputs": [],
   "source": []
  }
 ],
 "metadata": {
  "kernelspec": {
   "display_name": "Python 3",
   "language": "python",
   "name": "python3"
  },
  "language_info": {
   "codemirror_mode": {
    "name": "ipython",
    "version": 3
   },
   "file_extension": ".py",
   "mimetype": "text/x-python",
   "name": "python",
   "nbconvert_exporter": "python",
   "pygments_lexer": "ipython3",
   "version": "3.8.8"
  }
 },
 "nbformat": 4,
 "nbformat_minor": 4
}
