{
 "cells": [
  {
   "cell_type": "markdown",
   "id": "secondary-acquisition",
   "metadata": {},
   "source": [
    "## Imports"
   ]
  },
  {
   "cell_type": "code",
   "execution_count": 1,
   "id": "practical-connectivity",
   "metadata": {},
   "outputs": [],
   "source": [
    "import random                  \n",
    "from fractions import Fraction\n",
    "import numpy as np\n",
    "import pandas as pd\n",
    "from music21 import chord, corpus, environment, meter, midi, note, stream, tempo, converter"
   ]
  },
  {
   "cell_type": "code",
   "execution_count": 2,
   "id": "cubic-greene",
   "metadata": {},
   "outputs": [],
   "source": [
    "def play(score):\n",
    "    #Shortcut to play a stream\n",
    "    midi.realtime.StreamPlayer(score).play()"
   ]
  },
  {
   "cell_type": "markdown",
   "id": "trained-operator",
   "metadata": {},
   "source": [
    "## Setup"
   ]
  },
  {
   "cell_type": "code",
   "execution_count": 225,
   "id": "heard-depth",
   "metadata": {},
   "outputs": [],
   "source": [
    "score = converter.parse('score.mxl')\n",
    "r_hand = score.parts[0]\n",
    "l_hand = score.parts[1]\n",
    "r_measures = r_hand.getElementsByClass('Measure')\n",
    "l_measures = l_hand.getElementsByClass('Measure')\n",
    "\n",
    "piece_end = r_measures[-1].offset + 4"
   ]
  },
  {
   "cell_type": "markdown",
   "id": "therapeutic-caribbean",
   "metadata": {},
   "source": [
    "## Pitch degeneration"
   ]
  },
  {
   "cell_type": "code",
   "execution_count": 226,
   "id": "composed-upset",
   "metadata": {},
   "outputs": [],
   "source": [
    "#def shift_notes_pitch(delta_fun, notes):\n",
    "#    for n in notes:\n",
    "#        cents = n.pitch.microtone.cents\n",
    "#        n.pitch.microtone = cents + delta_fun(n.offset)\n",
    "#        print(n.offset)\n",
    "\n",
    "def shift_pitch_fun(delta_fun, start_offset=0, end_offset=piece_end, include_end=False):\n",
    "    notes = score.flat.getElementsByOffset(start_offset, end_offset, includeEndBoundary=include_end, classList=[note.Note])\n",
    "    for n in notes:\n",
    "        cents = n.pitch.microtone.cents\n",
    "        n.pitch.microtone = cents + delta_fun(n.offset)\n",
    "    \n",
    "    chords = score.flat.getElementsByOffset(start_offset, end_offset, includeEndBoundary=include_end, classList=[chord.Chord])\n",
    "    for c in chords:\n",
    "        for n in c.notes:\n",
    "            cents = n.pitch.microtone.cents\n",
    "            n.pitch.microtone = cents + delta_fun(c.offset)\n",
    "\n",
    "def shift_pitch(delta, start_offset=0, end_offset=piece_end, include_end=False):\n",
    "    shift_pitch_fun(lambda x: delta, start_offset, end_offset, include_end)"
   ]
  },
  {
   "cell_type": "code",
   "execution_count": 229,
   "id": "under-communication",
   "metadata": {},
   "outputs": [],
   "source": [
    "shift_pitch(25, 4*11)\n",
    "shift_pitch(50, 4*11*2)\n",
    "shift_pitch(-75, 4*11*3)\n",
    "\n",
    "def gradual_shift(offset):\n",
    "    progression = offset/piece_end\n",
    "    max_delta = 100*progression\n",
    "    return random.uniform(-max_delta, max_delta)\n",
    "    \n",
    "shift_pitch_fun(gradual_shift)"
   ]
  },
  {
   "cell_type": "markdown",
   "id": "becoming-cocktail",
   "metadata": {},
   "source": [
    "## Export to MIDI"
   ]
  },
  {
   "cell_type": "code",
   "execution_count": 231,
   "id": "above-professional",
   "metadata": {},
   "outputs": [
    {
     "data": {
      "text/plain": [
       "'out.mid'"
      ]
     },
     "execution_count": 231,
     "metadata": {},
     "output_type": "execute_result"
    }
   ],
   "source": [
    "score.write('midi', fp='out.mid')"
   ]
  }
 ],
 "metadata": {
  "kernelspec": {
   "display_name": "Python [conda env:.conda-algo]",
   "language": "python",
   "name": "conda-env-.conda-algo-py"
  },
  "language_info": {
   "codemirror_mode": {
    "name": "ipython",
    "version": 3
   },
   "file_extension": ".py",
   "mimetype": "text/x-python",
   "name": "python",
   "nbconvert_exporter": "python",
   "pygments_lexer": "ipython3",
   "version": "3.8.8"
  }
 },
 "nbformat": 4,
 "nbformat_minor": 5
}
