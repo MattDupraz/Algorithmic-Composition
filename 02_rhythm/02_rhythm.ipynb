{
 "cells": [
  {
   "cell_type": "code",
   "execution_count": 1,
   "id": "comparable-wednesday",
   "metadata": {},
   "outputs": [],
   "source": [
    "import numpy as np\n",
    "import pandas as pd\n",
    "\n",
    "from fractions import Fraction\n",
    "from collections import defaultdict, Counter\n",
    "from iteration_utilities import deepflatten #flatten nested lists\n",
    "\n",
    "\n",
    "from music21 import midi, note, stream, instrument, meter, key\n",
    "import itertools\n",
    "import random\n",
    "\n",
    "\n",
    "import nltk #for NLP\n",
    "import string\n",
    "import mchmm #for Markov models\n",
    "\n",
    "#Just a helper function\n",
    "def flatten_list(hierarchical_list):\n",
    "    #Flatten a list of lists\n",
    "    return [x for sublist in hierarchical_list for x in sublist]"
   ]
  },
  {
   "cell_type": "markdown",
   "id": "offshore-weekend",
   "metadata": {},
   "source": [
    "# Generating Rhythms: Content\n",
    "\n",
    "This notebook exemplifies a few modalities of rhythm generation.\n",
    "\n",
    "1. We start by simply assembling consecutive durations in an arbitrary way.\n",
    "2. Then, we fix the probabilities for transitioning from one rhythmic element to the next, building a Markov model.\n",
    "3. Rather than fixing the transition probabilities ourselves, we can train a Markov model to learn the transition probabilities (e.g. from some text corpus), and then use these transition probabilities to generate new rhythms.\n",
    "4. We then implement a Context Free Grammar for generating rhythms hierarchically. \n",
    "5. Finally, we overview Nancarrow's canonic techniques and reproduce the rhythm of his Study 14 for player piano.\n",
    "\n",
    "Before engaging with the main topics, it will be useful to define some helper functions to save some time."
   ]
  },
  {
   "cell_type": "markdown",
   "id": "female-cleanup",
   "metadata": {},
   "source": [
    "# Helper functions"
   ]
  },
  {
   "cell_type": "markdown",
   "id": "every-asian",
   "metadata": {},
   "source": [
    "First, here is a shortcut for **playback**, which we have already seen in week 1 notebook:"
   ]
  },
  {
   "cell_type": "code",
   "execution_count": 2,
   "id": "appointed-protein",
   "metadata": {},
   "outputs": [],
   "source": [
    "def play(score):\n",
    "    #Shortcut to play a stream\n",
    "    midi.realtime.StreamPlayer(score).play()"
   ]
  },
  {
   "cell_type": "markdown",
   "id": "atomic-combat",
   "metadata": {},
   "source": [
    "**Now, we define a function to create percussion sounds that we can embed in streams.**\n",
    "\n",
    "First, let us create a note object of given duration. \n",
    "\n",
    "We express durations in whole-note units, so that quarter-notes have duration 1/4, eigth-notes have duration 1/8 etc. You can easily change the duration unit by assigning a new value to the UNIT variable.\n",
    "\n",
    "Since we are dealing with rhythm, we don't really care about the pitch of the notes, so we assign a default value (C4). When calling the percussion_hit function, you can either stick to the default pitch (just omit the pitch parameter) or you can specify a new value for the pitch parameter."
   ]
  },
  {
   "cell_type": "code",
   "execution_count": 3,
   "id": "parallel-diabetes",
   "metadata": {},
   "outputs": [],
   "source": [
    "#GLOBAL CONSTANTS\n",
    "UNIT = 1 #We express duration as fractions of a whole note. Use UNIT = 1/4 to express durations as fractions of quarter-notes\n",
    "\n",
    "def percussion_hit(duration, pitch = \"C4\"):\n",
    "    #Create Note object for percussion hits (default pitch is C4)\n",
    "    return note.Note(pitch, quarterLength = duration*(4*UNIT))"
   ]
  },
  {
   "cell_type": "markdown",
   "id": "capable-musician",
   "metadata": {},
   "source": [
    "So, a percussion_hit of duration 1 (whole-note) spans 4 quarter-notes:"
   ]
  },
  {
   "cell_type": "code",
   "execution_count": 4,
   "id": "welcome-communications",
   "metadata": {},
   "outputs": [
    {
     "data": {
      "text/plain": [
       "4.0"
      ]
     },
     "execution_count": 4,
     "metadata": {},
     "output_type": "execute_result"
    }
   ],
   "source": [
    "percussion_hit(1).quarterLength"
   ]
  },
  {
   "cell_type": "code",
   "execution_count": 5,
   "id": "social-cricket",
   "metadata": {},
   "outputs": [
    {
     "data": {
      "image/png": "[encoded data removed]",
      "text/plain": [
       "<IPython.core.display.Image object>"
      ]
     },
     "metadata": {
      "image/png": {
       "height": 49,
       "width": 194
      }
     },
     "output_type": "display_data"
    }
   ],
   "source": [
    "percussion_hit(1).show()"
   ]
  },
  {
   "cell_type": "markdown",
   "id": "beautiful-mystery",
   "metadata": {},
   "source": [
    "**Now, we create a container object (a Stream or a Measure) for our percussion_hits.**\n",
    "\n",
    "By default, no time signature is specified, so that a single measure of unspecified capacity is generated. If you do specify a time signature when calling the create_percussion function, a stream with the given time signature is created instead."
   ]
  },
  {
   "cell_type": "code",
   "execution_count": 6,
   "id": "preliminary-intention",
   "metadata": {},
   "outputs": [],
   "source": [
    "def create_percussion(time_sig = None):\n",
    "    #Initialize a percussion stream with Woodblock timbre\n",
    "    #If time signature is None, no measure splits\n",
    "    if time_sig == None:\n",
    "        drumPart = stream.Measure()\n",
    "    else:\n",
    "        drumPart = stream.Stream()\n",
    "        drumPart.timeSignature = meter.TimeSignature(time_sig)\n",
    "    \n",
    "    drumPart.insert(0, instrument.Woodblock()) #assign woosblock timbre\n",
    "    return drumPart"
   ]
  },
  {
   "cell_type": "markdown",
   "id": "western-confidentiality",
   "metadata": {},
   "source": [
    "**We can now embed a percussion_hit in a stream.**\n",
    "\n",
    "To simplify the process, we define new functions that append a percussion_hit of given duration to a percussion stream:"
   ]
  },
  {
   "cell_type": "code",
   "execution_count": 7,
   "id": "damaged-sessions",
   "metadata": {},
   "outputs": [],
   "source": [
    "def append_event(duration, original_stream, rest = False, pitch = 'C4'):\n",
    "    #Returns a new_stream obtained by appending a rhythmical event or a rest of given duration to the original_stream\n",
    "    new_stream = original_stream\n",
    "    if rest:\n",
    "        new_stream.append(note.Rest(quarterLength = duration*(4*UNIT)))\n",
    "    else:\n",
    "        new_stream.append(percussion_hit(duration, pitch))\n",
    "    return new_stream\n"
   ]
  },
  {
   "cell_type": "code",
   "execution_count": 8,
   "id": "accredited-vegetation",
   "metadata": {},
   "outputs": [
    {
     "data": {
      "image/png": "[encoded data removed]",
      "text/plain": [
       "<IPython.core.display.Image object>"
      ]
     },
     "metadata": {
      "image/png": {
       "height": 49,
       "width": 196
      }
     },
     "output_type": "display_data"
    }
   ],
   "source": [
    "m = create_percussion()\n",
    "append_event(1/8, m).show()"
   ]
  },
  {
   "cell_type": "markdown",
   "id": "divided-berkeley",
   "metadata": {},
   "source": [
    "# 1. Additive rhythm generation"
   ]
  },
  {
   "cell_type": "markdown",
   "id": "ambient-wings",
   "metadata": {},
   "source": [
    "**We are ready to produce rhythms! Let's just chain durations by appending them to the same Stream object.**\n",
    "\n",
    "By running the following cell with start_new set to True, you initialise an empty rhythmic stream and fill it with one note of duration new_duration. If you set start_new to False, you can keep adding new notes to the stream. Every time you append a new note, you can decide its duration by assigining a value to the variable new_duration. You can also insert rests, by changing the truth value of the is_rest variable."
   ]
  },
  {
   "cell_type": "code",
   "execution_count": 19,
   "id": "scenic-current",
   "metadata": {},
   "outputs": [
    {
     "data": {
      "image/png": "[encoded data removed]",
      "text/plain": [
       "<Figure size 720x432 with 1 Axes>"
      ]
     },
     "metadata": {
      "image/png": {
       "height": 382,
       "width": 584
      }
     },
     "output_type": "display_data"
    }
   ],
   "source": [
    "start_new = False\n",
    "is_rest = False\n",
    "\n",
    "if start_new:\n",
    "    #If start_new is true, initialise a new rhythmic stream\n",
    "    initial = create_percussion()\n",
    "    #Reset duration\n",
    "    new_duration = 13/167\n",
    "\n",
    "updated = initial\n",
    "updated = append_event(new_duration, updated, rest = is_rest)\n",
    "new_duration = 0.9 * new_duration\n",
    "    \n",
    "updated.plot()\n",
    "play(updated)"
   ]
  },
  {
   "cell_type": "markdown",
   "id": "mathematical-natural",
   "metadata": {},
   "source": [
    "### Exercise: Accelerando\n",
    "\n",
    "Use the above code to produce an accelerating rhythm by adding shorter and shorter durations starting from an arbitrary initial duration. "
   ]
  },
  {
   "cell_type": "markdown",
   "id": "historical-calibration",
   "metadata": {},
   "source": [
    "## Rhythm from list of durations"
   ]
  },
  {
   "cell_type": "markdown",
   "id": "informed-procedure",
   "metadata": {},
   "source": [
    "**Instead of adding one percussion_hit at a time, we can specify a whole sequence of durations at once:**"
   ]
  },
  {
   "cell_type": "code",
   "execution_count": 20,
   "id": "administrative-fortune",
   "metadata": {},
   "outputs": [],
   "source": [
    "def rhythm_from_sequence(durations, time_sig = None, pitch = 'C4', rhythm=None):\n",
    "    #Generate rhythmic stream from a list of durations. Rests are indicated by specifying a duration as a string\n",
    "    if rhythm is None:\n",
    "        # pass an existing stream 'rhythm' to append the durations, otherwise a new one will be created\n",
    "        rhythm = create_percussion(time_sig = time_sig)\n",
    "    for dur in durations:\n",
    "        is_rest = False\n",
    "        if dur != 0:\n",
    "            if isinstance(dur, str):\n",
    "                #if duration is given as a string, interpret and rest and turn string into a numerical value\n",
    "                is_rest = True\n",
    "                dur = Fraction(dur)\n",
    "            \n",
    "            rhythm = append_event(dur, rhythm, rest = is_rest, pitch = pitch) \n",
    "    return rhythm\n"
   ]
  },
  {
   "cell_type": "markdown",
   "id": "patent-apache",
   "metadata": {},
   "source": [
    "Let's play and show a sequence of arbitrary durations:"
   ]
  },
  {
   "cell_type": "code",
   "execution_count": 21,
   "id": "lesser-fleet",
   "metadata": {},
   "outputs": [],
   "source": [
    "duration_sequence = [1/4, 1/8, 1/8, 1/4/3, 2/4/3, '1/8',  1/4]    \n",
    "rhythm = rhythm_from_sequence(duration_sequence)\n",
    "play(rhythm)    "
   ]
  },
  {
   "cell_type": "code",
   "execution_count": 22,
   "id": "threaded-saying",
   "metadata": {},
   "outputs": [
    {
     "data": {
      "image/png": "[encoded data removed]",
      "text/plain": [
       "<IPython.core.display.Image object>"
      ]
     },
     "metadata": {
      "image/png": {
       "height": 53,
       "width": 674
      }
     },
     "output_type": "display_data"
    }
   ],
   "source": [
    "rhythm.show()"
   ]
  },
  {
   "cell_type": "code",
   "execution_count": 23,
   "id": "endangered-friend",
   "metadata": {},
   "outputs": [
    {
     "data": {
      "image/png": "[encoded data removed]",
      "text/plain": [
       "<Figure size 720x432 with 1 Axes>"
      ]
     },
     "metadata": {
      "image/png": {
       "height": 382,
       "width": 584
      }
     },
     "output_type": "display_data"
    }
   ],
   "source": [
    "rhythm.plot()"
   ]
  },
  {
   "cell_type": "markdown",
   "id": "bizarre-debut",
   "metadata": {},
   "source": [
    "### Exercise: Rhythmic transcription\n",
    "\n",
    "Use the function `rhythm_from_sequence()` to transcribe the following rhythmic sequence:"
   ]
  },
  {
   "cell_type": "markdown",
   "id": "lovely-catch",
   "metadata": {},
   "source": [
    "<img src=\"BlueBossa.png\">"
   ]
  },
  {
   "cell_type": "code",
   "execution_count": 24,
   "id": "european-creature",
   "metadata": {},
   "outputs": [
    {
     "data": {
      "image/png": "[encoded data removed]",
      "text/plain": [
       "<IPython.core.display.Image object>"
      ]
     },
     "metadata": {
      "image/png": {
       "height": 49,
       "width": 674
      }
     },
     "output_type": "display_data"
    }
   ],
   "source": [
    "duration_sequence = ['3/4', 1/4, 3/8, 1/8, 1/8, 1/4, 1/8 + 3/4, 1/4, 3/8, 1/2, 1/8 + 1]\n",
    "rhythm = rhythm_from_sequence(duration_sequence, '4/4', 'C5')\n",
    "rhythm.show()"
   ]
  },
  {
   "cell_type": "markdown",
   "id": "identified-thread",
   "metadata": {},
   "source": [
    "Here is a little refresher of rhythmic notation that might help you convert notes into duration values:"
   ]
  },
  {
   "cell_type": "markdown",
   "id": "interpreted-american",
   "metadata": {},
   "source": [
    "<img src=\"RhythmicNotation.png\">"
   ]
  },
  {
   "cell_type": "markdown",
   "id": "automated-trade",
   "metadata": {},
   "source": [
    "# 2. Markov chains"
   ]
  },
  {
   "cell_type": "markdown",
   "id": "personal-turner",
   "metadata": {},
   "source": [
    "Music is about *organising* sounds in time. As a consequence, we want our rhythms to be governed by some **generative principle**.\n",
    "\n",
    "A possible generative principle is to specify the probability for any new event in a sequence given the preceding event(s). Therefore, a Markov model can be expressed as a **transition table** such as the one seen in the last lecture, slide 19:\n",
    "\n",
    "<img src=\"transitions.png\">"
   ]
  },
  {
   "cell_type": "markdown",
   "id": "external-nightlife",
   "metadata": {},
   "source": [
    "## Designing a Markov model manually\n",
    "\n",
    "First, we decide what our **vocabulary** is going to be, the possible states of the model. We could base the model, e.g. on transitions between onset positions (as above), between durations, or between rhythmic cells.\n",
    "\n",
    "Let's go with the latter and handcraft two rhythmic cells as lists of durations."
   ]
  },
  {
   "cell_type": "code",
   "execution_count": 25,
   "id": "defined-shopper",
   "metadata": {},
   "outputs": [
    {
     "data": {
      "image/png": "[encoded data removed]",
      "text/plain": [
       "<IPython.core.display.Image object>"
      ]
     },
     "metadata": {
      "image/png": {
       "height": 49,
       "width": 239
      }
     },
     "output_type": "display_data"
    },
    {
     "data": {
      "image/png": "[encoded data removed]",
      "text/plain": [
       "<IPython.core.display.Image object>"
      ]
     },
     "metadata": {
      "image/png": {
       "height": 49,
       "width": 674
      }
     },
     "output_type": "display_data"
    }
   ],
   "source": [
    "a = (3/8, 1/8)\n",
    "b = (1/32,) * 8\n",
    "states = (a, b)\n",
    "rhythm_from_sequence(a).show()\n",
    "rhythm_from_sequence(b).show()"
   ]
  },
  {
   "cell_type": "markdown",
   "id": "aquatic-leave",
   "metadata": {},
   "source": [
    "For every element in our vocabulary, we need to define a transition probability to every element. We could define a function for that but since we defined the rhythmic cells as tuples, we can have it easier, as a dictionary (wouldn't work with lists as keys):"
   ]
  },
  {
   "cell_type": "code",
   "execution_count": 26,
   "id": "champion-bullet",
   "metadata": {},
   "outputs": [],
   "source": [
    "transitions = {\n",
    "    a: [[a, b], [0.9, 0.1]],\n",
    "    b: [[a, b], [0.9, 0.1]]\n",
    "}"
   ]
  },
  {
   "cell_type": "markdown",
   "id": "analyzed-aerospace",
   "metadata": {},
   "source": [
    "From this dictionary, we can easily access the transitions from a given a state to what is going to be the next state in the chain:"
   ]
  },
  {
   "cell_type": "code",
   "execution_count": 27,
   "id": "macro-rescue",
   "metadata": {},
   "outputs": [
    {
     "data": {
      "text/plain": [
       "[[(0.375, 0.125),\n",
       "  (0.03125, 0.03125, 0.03125, 0.03125, 0.03125, 0.03125, 0.03125, 0.03125)],\n",
       " [0.9, 0.1]]"
      ]
     },
     "execution_count": 27,
     "metadata": {},
     "output_type": "execute_result"
    }
   ],
   "source": [
    "transitions[a]"
   ]
  },
  {
   "cell_type": "markdown",
   "id": "empirical-mistress",
   "metadata": {},
   "source": [
    "All that's left to do is define\n",
    "\n",
    "* where the Markov chain starts\n",
    "* how many states we want to append to the Markov chain and pick randomly"
   ]
  },
  {
   "cell_type": "code",
   "execution_count": 28,
   "id": "spread-oasis",
   "metadata": {},
   "outputs": [
    {
     "data": {
      "image/png": "[encoded data removed]",
      "text/plain": [
       "<IPython.core.display.Image object>"
      ]
     },
     "metadata": {
      "image/png": {
       "height": 188,
       "width": 708
      }
     },
     "output_type": "display_data"
    }
   ],
   "source": [
    "current_state = a\n",
    "chain_length = 15\n",
    "\n",
    "markov_rhythm = create_percussion(time_sig = '4/4')\n",
    "for _ in range(chain_length):\n",
    "    markov_rhythm = rhythm_from_sequence(current_state, rhythm=markov_rhythm)\n",
    "    next_states, probs = transitions[current_state]\n",
    "    current_state = random.choices(next_states, probs)[0]\n",
    "\n",
    "markov_rhythm.show()"
   ]
  },
  {
   "cell_type": "code",
   "execution_count": 29,
   "id": "technological-illustration",
   "metadata": {},
   "outputs": [],
   "source": [
    "play(markov_rhythm)"
   ]
  },
  {
   "cell_type": "markdown",
   "id": "cardiovascular-mapping",
   "metadata": {},
   "source": [
    "# 3. Train Markov model"
   ]
  },
  {
   "cell_type": "markdown",
   "id": "acquired-fellowship",
   "metadata": {},
   "source": [
    "Now, instead of specifying the transition probabilities arbitrarily, we can infer them from some other stochastic process: for example, word lengths in a literary text. "
   ]
  },
  {
   "cell_type": "markdown",
   "id": "atomic-vietnamese",
   "metadata": {},
   "source": [
    "## Getting word lengths from a literary text\n",
    "\n",
    "`NLTK`, a python library for natural language processing, provides us with the tools to do it. First, let's download a collection of famous texts, a corpus from the [Gutenberg project](https://www.gutenberg.org/):"
   ]
  },
  {
   "cell_type": "code",
   "execution_count": 30,
   "id": "fourth-favor",
   "metadata": {},
   "outputs": [
    {
     "name": "stderr",
     "output_type": "stream",
     "text": [
      "[nltk_data] Downloading package gutenberg to\n",
      "[nltk_data]     C:\\Users\\matth\\AppData\\Roaming\\nltk_data...\n",
      "[nltk_data]   Package gutenberg is already up-to-date!\n"
     ]
    },
    {
     "data": {
      "text/plain": [
       "True"
      ]
     },
     "execution_count": 30,
     "metadata": {},
     "output_type": "execute_result"
    }
   ],
   "source": [
    "nltk.download('gutenberg')"
   ]
  },
  {
   "cell_type": "markdown",
   "id": "constitutional-pasta",
   "metadata": {},
   "source": [
    "The corpus includes the following texts:"
   ]
  },
  {
   "cell_type": "code",
   "execution_count": 31,
   "id": "later-liability",
   "metadata": {},
   "outputs": [
    {
     "data": {
      "text/plain": [
       "['austen-emma.txt',\n",
       " 'austen-persuasion.txt',\n",
       " 'austen-sense.txt',\n",
       " 'bible-kjv.txt',\n",
       " 'blake-poems.txt',\n",
       " 'bryant-stories.txt',\n",
       " 'burgess-busterbrown.txt',\n",
       " 'carroll-alice.txt',\n",
       " 'chesterton-ball.txt',\n",
       " 'chesterton-brown.txt',\n",
       " 'chesterton-thursday.txt',\n",
       " 'edgeworth-parents.txt',\n",
       " 'melville-moby_dick.txt',\n",
       " 'milton-paradise.txt',\n",
       " 'shakespeare-caesar.txt',\n",
       " 'shakespeare-hamlet.txt',\n",
       " 'shakespeare-macbeth.txt',\n",
       " 'whitman-leaves.txt']"
      ]
     },
     "execution_count": 31,
     "metadata": {},
     "output_type": "execute_result"
    }
   ],
   "source": [
    "nltk.corpus.gutenberg.fileids()"
   ]
  },
  {
   "cell_type": "markdown",
   "id": "standing-community",
   "metadata": {},
   "source": [
    "Let's pick Carrol's *Alice in Wonderland*:"
   ]
  },
  {
   "cell_type": "code",
   "execution_count": 32,
   "id": "living-sellers",
   "metadata": {},
   "outputs": [
    {
     "name": "stdout",
     "output_type": "stream",
     "text": [
      "The list has 34110 strings.\n"
     ]
    },
    {
     "data": {
      "text/plain": [
       "['[',\n",
       " 'Alice',\n",
       " \"'\",\n",
       " 's',\n",
       " 'Adventures',\n",
       " 'in',\n",
       " 'Wonderland',\n",
       " 'by',\n",
       " 'Lewis',\n",
       " 'Carroll',\n",
       " '1865',\n",
       " ']',\n",
       " 'CHAPTER',\n",
       " 'I',\n",
       " '.',\n",
       " 'Down',\n",
       " 'the',\n",
       " 'Rabbit',\n",
       " '-',\n",
       " 'Hole']"
      ]
     },
     "execution_count": 32,
     "metadata": {},
     "output_type": "execute_result"
    }
   ],
   "source": [
    "alice_in_wonderland = nltk.corpus.gutenberg.words('carroll-alice.txt')\n",
    "print(f\"The list has {len(alice_in_wonderland)} strings.\")\n",
    "alice_in_wonderland[:20]"
   ]
  },
  {
   "cell_type": "markdown",
   "id": "successful-imaging",
   "metadata": {},
   "source": [
    "To get the actual word length, we need to remove punctuation signs and can use this predifined list:"
   ]
  },
  {
   "cell_type": "code",
   "execution_count": 33,
   "id": "removed-horizontal",
   "metadata": {},
   "outputs": [
    {
     "data": {
      "text/plain": [
       "'!\"#$%&\\'()*+,-./:;<=>?@[\\\\]^_`{|}~'"
      ]
     },
     "execution_count": 33,
     "metadata": {},
     "output_type": "execute_result"
    }
   ],
   "source": [
    "string.punctuation"
   ]
  },
  {
   "cell_type": "code",
   "execution_count": 34,
   "id": "tough-specialist",
   "metadata": {},
   "outputs": [
    {
     "name": "stdout",
     "output_type": "stream",
     "text": [
      "The list now has 27334 strings.\n"
     ]
    },
    {
     "data": {
      "text/plain": [
       "['Alice',\n",
       " 's',\n",
       " 'Adventures',\n",
       " 'in',\n",
       " 'Wonderland',\n",
       " 'by',\n",
       " 'Lewis',\n",
       " 'Carroll',\n",
       " '1865',\n",
       " 'CHAPTER',\n",
       " 'I',\n",
       " 'Down',\n",
       " 'the',\n",
       " 'Rabbit',\n",
       " 'Hole',\n",
       " 'Alice',\n",
       " 'was',\n",
       " 'beginning',\n",
       " 'to',\n",
       " 'get']"
      ]
     },
     "execution_count": 34,
     "metadata": {},
     "output_type": "execute_result"
    }
   ],
   "source": [
    "filtered = list(filter(lambda word: np.product([character not in string.punctuation for character in word ]), alice_in_wonderland)) # filter out punctuation\n",
    "print(f\"The list now has {len(filtered)} strings.\")\n",
    "filtered[:20]"
   ]
  },
  {
   "cell_type": "markdown",
   "id": "surprising-frank",
   "metadata": {},
   "source": [
    "Now we map the function `len()` to all words to get a list of word lengths:"
   ]
  },
  {
   "cell_type": "code",
   "execution_count": 35,
   "id": "progressive-universal",
   "metadata": {},
   "outputs": [
    {
     "data": {
      "text/plain": [
       "[5, 1, 10, 2, 10, 2, 5, 7, 4, 7, 1, 4, 3, 6, 4, 5, 3, 9, 2, 3]"
      ]
     },
     "execution_count": 35,
     "metadata": {},
     "output_type": "execute_result"
    }
   ],
   "source": [
    "wl =list(map(len, filtered))\n",
    "wl[:20]"
   ]
  },
  {
   "cell_type": "markdown",
   "id": "virgin-thong",
   "metadata": {},
   "source": [
    "## Getting transition probablities\n",
    "\n",
    "Now we have to get from the list of word lengths to a transition table between word lengths. For that, we create **bigrams**, that we can count, i.e. a list `[a, b, c, d]` is transformed into a list of bigrams `[(a, b), (b, c), (c, d)]`.\n",
    "\n",
    "This can be achieved by zipping the list without the last element `[a, b, c]` together with the list without the first element `[b, c, d]`:"
   ]
  },
  {
   "cell_type": "code",
   "execution_count": 36,
   "id": "short-generic",
   "metadata": {},
   "outputs": [
    {
     "data": {
      "text/plain": [
       "[(5, 1),\n",
       " (1, 10),\n",
       " (10, 2),\n",
       " (2, 10),\n",
       " (10, 2),\n",
       " (2, 5),\n",
       " (5, 7),\n",
       " (7, 4),\n",
       " (4, 7),\n",
       " (7, 1),\n",
       " (1, 4),\n",
       " (4, 3),\n",
       " (3, 6),\n",
       " (6, 4),\n",
       " (4, 5),\n",
       " (5, 3),\n",
       " (3, 9),\n",
       " (9, 2),\n",
       " (2, 3),\n",
       " (3, 4)]"
      ]
     },
     "execution_count": 36,
     "metadata": {},
     "output_type": "execute_result"
    }
   ],
   "source": [
    "bigrams = list(zip(wl[:-1], wl[1:]))\n",
    "bigrams[:20]"
   ]
  },
  {
   "cell_type": "markdown",
   "id": "central-johns",
   "metadata": {},
   "source": [
    "<div class=\"alert alert-success\" role=\"alert\">\n",
    "  <h4 class=\"alert-heading\">zip()</h4>\n",
    "    This function allows to iterate through several collections in parallel, for example:<br>\n",
    "    for x, y, z in zip(list1, list2, list3):\n",
    "</div>\n",
    "\n",
    "This list of bigrams needs to be transformed into **relative bigram frequencies** which we then use as probabilities.\n",
    "\n",
    "To get there, we first need the **absolute** bigram frequencies, or bigram counts.\n",
    "That is to say, we need to sort our `(x, y)` in a way that for every `x` we count how often it transitions to any `y`. For this, we can use the very useful `defaultdict` and `Counter` object (if you don't know them, read them up)."
   ]
  },
  {
   "cell_type": "code",
   "execution_count": 37,
   "id": "preliminary-desert",
   "metadata": {},
   "outputs": [],
   "source": [
    "dd = defaultdict(Counter)\n",
    "for x, y in bigrams:\n",
    "    dd[x].update([y])"
   ]
  },
  {
   "cell_type": "markdown",
   "id": "dominican-toner",
   "metadata": {},
   "source": [
    "<div class=\"alert alert-success\" role=\"alert\">\n",
    "  <h4 class=\"alert-heading\">defaultdict & Counter</h4>\n",
    "    These two objects are extremely useful in many cases. If you don't know them, read up on them!\n",
    "</div>"
   ]
  },
  {
   "cell_type": "code",
   "execution_count": 38,
   "id": "eleven-communist",
   "metadata": {},
   "outputs": [
    {
     "data": {
      "text/plain": [
       "Counter({10: 16,\n",
       "         4: 448,\n",
       "         5: 273,\n",
       "         6: 238,\n",
       "         9: 30,\n",
       "         3: 274,\n",
       "         2: 148,\n",
       "         1: 105,\n",
       "         7: 122,\n",
       "         8: 39,\n",
       "         12: 5,\n",
       "         11: 4})"
      ]
     },
     "execution_count": 38,
     "metadata": {},
     "output_type": "execute_result"
    }
   ],
   "source": [
    "dd[1] # transition from word length 1 to any other word length (doesn't necessarily cover all possible transitions, only those occurring in the corpus)"
   ]
  },
  {
   "cell_type": "markdown",
   "id": "electric-township",
   "metadata": {},
   "source": [
    "Now we can turn this into a list of lists to display this as a transition table. Remember we need to cover all possible transistions, so we can simply do it with a nested for loop going through all word lengths.\n",
    "\n",
    "First, we need to know the maximal word length, assuming that all smaller ones occur, too:"
   ]
  },
  {
   "cell_type": "code",
   "execution_count": 39,
   "id": "dedicated-attack",
   "metadata": {},
   "outputs": [
    {
     "data": {
      "text/plain": [
       "[1, 2, 3, 4, 5, 6, 7, 8, 9, 10, 11, 12, 13, 14]"
      ]
     },
     "execution_count": 39,
     "metadata": {},
     "output_type": "execute_result"
    }
   ],
   "source": [
    "max_wl = max(dd.keys())\n",
    "all_wls = list(range(1, max_wl+1))\n",
    "all_wls"
   ]
  },
  {
   "cell_type": "code",
   "execution_count": 40,
   "id": "distinguished-current",
   "metadata": {},
   "outputs": [
    {
     "data": {
      "text/html": [
       "<div>\n",
       "<style scoped>\n",
       "    .dataframe tbody tr th:only-of-type {\n",
       "        vertical-align: middle;\n",
       "    }\n",
       "\n",
       "    .dataframe tbody tr th {\n",
       "        vertical-align: top;\n",
       "    }\n",
       "\n",
       "    .dataframe thead th {\n",
       "        text-align: right;\n",
       "    }\n",
       "</style>\n",
       "<table border=\"1\" class=\"dataframe\">\n",
       "  <thead>\n",
       "    <tr style=\"text-align: right;\">\n",
       "      <th></th>\n",
       "      <th>1</th>\n",
       "      <th>2</th>\n",
       "      <th>3</th>\n",
       "      <th>4</th>\n",
       "      <th>5</th>\n",
       "      <th>6</th>\n",
       "      <th>7</th>\n",
       "      <th>8</th>\n",
       "      <th>9</th>\n",
       "      <th>10</th>\n",
       "      <th>11</th>\n",
       "      <th>12</th>\n",
       "      <th>13</th>\n",
       "      <th>14</th>\n",
       "    </tr>\n",
       "  </thead>\n",
       "  <tbody>\n",
       "    <tr>\n",
       "      <th>1</th>\n",
       "      <td>105</td>\n",
       "      <td>148</td>\n",
       "      <td>274</td>\n",
       "      <td>448</td>\n",
       "      <td>273</td>\n",
       "      <td>238</td>\n",
       "      <td>122</td>\n",
       "      <td>39</td>\n",
       "      <td>30</td>\n",
       "      <td>16</td>\n",
       "      <td>4</td>\n",
       "      <td>5</td>\n",
       "      <td>0</td>\n",
       "      <td>0</td>\n",
       "    </tr>\n",
       "    <tr>\n",
       "      <th>2</th>\n",
       "      <td>331</td>\n",
       "      <td>560</td>\n",
       "      <td>1396</td>\n",
       "      <td>935</td>\n",
       "      <td>484</td>\n",
       "      <td>265</td>\n",
       "      <td>235</td>\n",
       "      <td>87</td>\n",
       "      <td>72</td>\n",
       "      <td>29</td>\n",
       "      <td>9</td>\n",
       "      <td>7</td>\n",
       "      <td>3</td>\n",
       "      <td>0</td>\n",
       "    </tr>\n",
       "    <tr>\n",
       "      <th>3</th>\n",
       "      <td>392</td>\n",
       "      <td>766</td>\n",
       "      <td>1469</td>\n",
       "      <td>1759</td>\n",
       "      <td>1095</td>\n",
       "      <td>616</td>\n",
       "      <td>465</td>\n",
       "      <td>264</td>\n",
       "      <td>126</td>\n",
       "      <td>47</td>\n",
       "      <td>51</td>\n",
       "      <td>9</td>\n",
       "      <td>3</td>\n",
       "      <td>2</td>\n",
       "    </tr>\n",
       "    <tr>\n",
       "      <th>4</th>\n",
       "      <td>426</td>\n",
       "      <td>1113</td>\n",
       "      <td>1639</td>\n",
       "      <td>1072</td>\n",
       "      <td>591</td>\n",
       "      <td>356</td>\n",
       "      <td>303</td>\n",
       "      <td>135</td>\n",
       "      <td>80</td>\n",
       "      <td>39</td>\n",
       "      <td>19</td>\n",
       "      <td>4</td>\n",
       "      <td>4</td>\n",
       "      <td>1</td>\n",
       "    </tr>\n",
       "    <tr>\n",
       "      <th>5</th>\n",
       "      <td>219</td>\n",
       "      <td>649</td>\n",
       "      <td>949</td>\n",
       "      <td>611</td>\n",
       "      <td>327</td>\n",
       "      <td>230</td>\n",
       "      <td>194</td>\n",
       "      <td>85</td>\n",
       "      <td>45</td>\n",
       "      <td>21</td>\n",
       "      <td>7</td>\n",
       "      <td>2</td>\n",
       "      <td>0</td>\n",
       "      <td>1</td>\n",
       "    </tr>\n",
       "    <tr>\n",
       "      <th>6</th>\n",
       "      <td>101</td>\n",
       "      <td>442</td>\n",
       "      <td>525</td>\n",
       "      <td>373</td>\n",
       "      <td>216</td>\n",
       "      <td>97</td>\n",
       "      <td>96</td>\n",
       "      <td>45</td>\n",
       "      <td>41</td>\n",
       "      <td>10</td>\n",
       "      <td>4</td>\n",
       "      <td>1</td>\n",
       "      <td>1</td>\n",
       "      <td>0</td>\n",
       "    </tr>\n",
       "    <tr>\n",
       "      <th>7</th>\n",
       "      <td>79</td>\n",
       "      <td>397</td>\n",
       "      <td>415</td>\n",
       "      <td>282</td>\n",
       "      <td>160</td>\n",
       "      <td>74</td>\n",
       "      <td>75</td>\n",
       "      <td>41</td>\n",
       "      <td>31</td>\n",
       "      <td>9</td>\n",
       "      <td>4</td>\n",
       "      <td>4</td>\n",
       "      <td>0</td>\n",
       "      <td>0</td>\n",
       "    </tr>\n",
       "    <tr>\n",
       "      <th>8</th>\n",
       "      <td>20</td>\n",
       "      <td>166</td>\n",
       "      <td>208</td>\n",
       "      <td>140</td>\n",
       "      <td>85</td>\n",
       "      <td>32</td>\n",
       "      <td>42</td>\n",
       "      <td>13</td>\n",
       "      <td>7</td>\n",
       "      <td>5</td>\n",
       "      <td>4</td>\n",
       "      <td>1</td>\n",
       "      <td>0</td>\n",
       "      <td>0</td>\n",
       "    </tr>\n",
       "    <tr>\n",
       "      <th>9</th>\n",
       "      <td>11</td>\n",
       "      <td>99</td>\n",
       "      <td>106</td>\n",
       "      <td>97</td>\n",
       "      <td>63</td>\n",
       "      <td>26</td>\n",
       "      <td>21</td>\n",
       "      <td>9</td>\n",
       "      <td>9</td>\n",
       "      <td>3</td>\n",
       "      <td>3</td>\n",
       "      <td>0</td>\n",
       "      <td>0</td>\n",
       "      <td>0</td>\n",
       "    </tr>\n",
       "    <tr>\n",
       "      <th>10</th>\n",
       "      <td>8</td>\n",
       "      <td>46</td>\n",
       "      <td>38</td>\n",
       "      <td>43</td>\n",
       "      <td>20</td>\n",
       "      <td>9</td>\n",
       "      <td>10</td>\n",
       "      <td>3</td>\n",
       "      <td>3</td>\n",
       "      <td>0</td>\n",
       "      <td>1</td>\n",
       "      <td>0</td>\n",
       "      <td>0</td>\n",
       "      <td>0</td>\n",
       "    </tr>\n",
       "    <tr>\n",
       "      <th>11</th>\n",
       "      <td>6</td>\n",
       "      <td>19</td>\n",
       "      <td>29</td>\n",
       "      <td>17</td>\n",
       "      <td>12</td>\n",
       "      <td>8</td>\n",
       "      <td>7</td>\n",
       "      <td>1</td>\n",
       "      <td>3</td>\n",
       "      <td>2</td>\n",
       "      <td>2</td>\n",
       "      <td>1</td>\n",
       "      <td>0</td>\n",
       "      <td>1</td>\n",
       "    </tr>\n",
       "    <tr>\n",
       "      <th>12</th>\n",
       "      <td>3</td>\n",
       "      <td>6</td>\n",
       "      <td>10</td>\n",
       "      <td>4</td>\n",
       "      <td>9</td>\n",
       "      <td>0</td>\n",
       "      <td>1</td>\n",
       "      <td>1</td>\n",
       "      <td>0</td>\n",
       "      <td>0</td>\n",
       "      <td>0</td>\n",
       "      <td>0</td>\n",
       "      <td>0</td>\n",
       "      <td>0</td>\n",
       "    </tr>\n",
       "    <tr>\n",
       "      <th>13</th>\n",
       "      <td>0</td>\n",
       "      <td>1</td>\n",
       "      <td>5</td>\n",
       "      <td>1</td>\n",
       "      <td>3</td>\n",
       "      <td>1</td>\n",
       "      <td>0</td>\n",
       "      <td>0</td>\n",
       "      <td>0</td>\n",
       "      <td>0</td>\n",
       "      <td>0</td>\n",
       "      <td>0</td>\n",
       "      <td>0</td>\n",
       "      <td>0</td>\n",
       "    </tr>\n",
       "    <tr>\n",
       "      <th>14</th>\n",
       "      <td>1</td>\n",
       "      <td>1</td>\n",
       "      <td>1</td>\n",
       "      <td>1</td>\n",
       "      <td>1</td>\n",
       "      <td>0</td>\n",
       "      <td>0</td>\n",
       "      <td>0</td>\n",
       "      <td>0</td>\n",
       "      <td>0</td>\n",
       "      <td>0</td>\n",
       "      <td>0</td>\n",
       "      <td>0</td>\n",
       "      <td>0</td>\n",
       "    </tr>\n",
       "  </tbody>\n",
       "</table>\n",
       "</div>"
      ],
      "text/plain": [
       "     1     2     3     4     5    6    7    8    9   10  11  12  13  14\n",
       "1   105   148   274   448   273  238  122   39   30  16   4   5   0   0\n",
       "2   331   560  1396   935   484  265  235   87   72  29   9   7   3   0\n",
       "3   392   766  1469  1759  1095  616  465  264  126  47  51   9   3   2\n",
       "4   426  1113  1639  1072   591  356  303  135   80  39  19   4   4   1\n",
       "5   219   649   949   611   327  230  194   85   45  21   7   2   0   1\n",
       "6   101   442   525   373   216   97   96   45   41  10   4   1   1   0\n",
       "7    79   397   415   282   160   74   75   41   31   9   4   4   0   0\n",
       "8    20   166   208   140    85   32   42   13    7   5   4   1   0   0\n",
       "9    11    99   106    97    63   26   21    9    9   3   3   0   0   0\n",
       "10    8    46    38    43    20    9   10    3    3   0   1   0   0   0\n",
       "11    6    19    29    17    12    8    7    1    3   2   2   1   0   1\n",
       "12    3     6    10     4     9    0    1    1    0   0   0   0   0   0\n",
       "13    0     1     5     1     3    1    0    0    0   0   0   0   0   0\n",
       "14    1     1     1     1     1    0    0    0    0   0   0   0   0   0"
      ]
     },
     "execution_count": 40,
     "metadata": {},
     "output_type": "execute_result"
    }
   ],
   "source": [
    "transitions = []\n",
    "for x in all_wls:\n",
    "    row = [dd[x][y] for y in all_wls]\n",
    "    transitions.append(row)\n",
    "transition_table = pd.DataFrame(transitions, index=all_wls, columns=all_wls)\n",
    "transition_table"
   ]
  },
  {
   "cell_type": "markdown",
   "id": "collaborative-updating",
   "metadata": {},
   "source": [
    "<div class=\"alert alert-success\" role=\"alert\">\n",
    "  <h4 class=\"alert-heading\">pandas and numpy</h4>\n",
    "    These two are some of the most widely used libraries in Python and are often the first or even the only imports you see in Python code. Numpy (np) is used for matrix calculations. Pandas (pd) builds on np and is the go-to tool for working with DataFrames (tables) of any kind. In this example, we simply create a pd.DataFrame to display the table with row names (=index) and column names.\n",
    "</div>\n",
    "\n",
    "This table could be interpreted as probabilities by normalizing every row:"
   ]
  },
  {
   "cell_type": "code",
   "execution_count": 41,
   "id": "endangered-titanium",
   "metadata": {},
   "outputs": [
    {
     "data": {
      "text/html": [
       "<div>\n",
       "<style scoped>\n",
       "    .dataframe tbody tr th:only-of-type {\n",
       "        vertical-align: middle;\n",
       "    }\n",
       "\n",
       "    .dataframe tbody tr th {\n",
       "        vertical-align: top;\n",
       "    }\n",
       "\n",
       "    .dataframe thead th {\n",
       "        text-align: right;\n",
       "    }\n",
       "</style>\n",
       "<table border=\"1\" class=\"dataframe\">\n",
       "  <thead>\n",
       "    <tr style=\"text-align: right;\">\n",
       "      <th></th>\n",
       "      <th>1</th>\n",
       "      <th>2</th>\n",
       "      <th>3</th>\n",
       "      <th>4</th>\n",
       "      <th>5</th>\n",
       "      <th>6</th>\n",
       "      <th>7</th>\n",
       "      <th>8</th>\n",
       "      <th>9</th>\n",
       "      <th>10</th>\n",
       "      <th>11</th>\n",
       "      <th>12</th>\n",
       "      <th>13</th>\n",
       "      <th>14</th>\n",
       "    </tr>\n",
       "  </thead>\n",
       "  <tbody>\n",
       "    <tr>\n",
       "      <th>1</th>\n",
       "      <td>0.061692</td>\n",
       "      <td>0.086957</td>\n",
       "      <td>0.160987</td>\n",
       "      <td>0.263220</td>\n",
       "      <td>0.160400</td>\n",
       "      <td>0.139835</td>\n",
       "      <td>0.071680</td>\n",
       "      <td>0.022914</td>\n",
       "      <td>0.017626</td>\n",
       "      <td>0.009401</td>\n",
       "      <td>0.002350</td>\n",
       "      <td>0.002938</td>\n",
       "      <td>0.000000</td>\n",
       "      <td>0.000000</td>\n",
       "    </tr>\n",
       "    <tr>\n",
       "      <th>2</th>\n",
       "      <td>0.075006</td>\n",
       "      <td>0.126898</td>\n",
       "      <td>0.316338</td>\n",
       "      <td>0.211874</td>\n",
       "      <td>0.109676</td>\n",
       "      <td>0.060050</td>\n",
       "      <td>0.053252</td>\n",
       "      <td>0.019714</td>\n",
       "      <td>0.016315</td>\n",
       "      <td>0.006571</td>\n",
       "      <td>0.002039</td>\n",
       "      <td>0.001586</td>\n",
       "      <td>0.000680</td>\n",
       "      <td>0.000000</td>\n",
       "    </tr>\n",
       "    <tr>\n",
       "      <th>3</th>\n",
       "      <td>0.055493</td>\n",
       "      <td>0.108437</td>\n",
       "      <td>0.207956</td>\n",
       "      <td>0.249009</td>\n",
       "      <td>0.155011</td>\n",
       "      <td>0.087203</td>\n",
       "      <td>0.065827</td>\n",
       "      <td>0.037373</td>\n",
       "      <td>0.017837</td>\n",
       "      <td>0.006653</td>\n",
       "      <td>0.007220</td>\n",
       "      <td>0.001274</td>\n",
       "      <td>0.000425</td>\n",
       "      <td>0.000283</td>\n",
       "    </tr>\n",
       "    <tr>\n",
       "      <th>4</th>\n",
       "      <td>0.073677</td>\n",
       "      <td>0.192494</td>\n",
       "      <td>0.283466</td>\n",
       "      <td>0.185403</td>\n",
       "      <td>0.102214</td>\n",
       "      <td>0.061570</td>\n",
       "      <td>0.052404</td>\n",
       "      <td>0.023348</td>\n",
       "      <td>0.013836</td>\n",
       "      <td>0.006745</td>\n",
       "      <td>0.003286</td>\n",
       "      <td>0.000692</td>\n",
       "      <td>0.000692</td>\n",
       "      <td>0.000173</td>\n",
       "    </tr>\n",
       "    <tr>\n",
       "      <th>5</th>\n",
       "      <td>0.065569</td>\n",
       "      <td>0.194311</td>\n",
       "      <td>0.284132</td>\n",
       "      <td>0.182934</td>\n",
       "      <td>0.097904</td>\n",
       "      <td>0.068862</td>\n",
       "      <td>0.058084</td>\n",
       "      <td>0.025449</td>\n",
       "      <td>0.013473</td>\n",
       "      <td>0.006287</td>\n",
       "      <td>0.002096</td>\n",
       "      <td>0.000599</td>\n",
       "      <td>0.000000</td>\n",
       "      <td>0.000299</td>\n",
       "    </tr>\n",
       "    <tr>\n",
       "      <th>6</th>\n",
       "      <td>0.051742</td>\n",
       "      <td>0.226434</td>\n",
       "      <td>0.268955</td>\n",
       "      <td>0.191086</td>\n",
       "      <td>0.110656</td>\n",
       "      <td>0.049693</td>\n",
       "      <td>0.049180</td>\n",
       "      <td>0.023053</td>\n",
       "      <td>0.021004</td>\n",
       "      <td>0.005123</td>\n",
       "      <td>0.002049</td>\n",
       "      <td>0.000512</td>\n",
       "      <td>0.000512</td>\n",
       "      <td>0.000000</td>\n",
       "    </tr>\n",
       "    <tr>\n",
       "      <th>7</th>\n",
       "      <td>0.050286</td>\n",
       "      <td>0.252705</td>\n",
       "      <td>0.264163</td>\n",
       "      <td>0.179504</td>\n",
       "      <td>0.101846</td>\n",
       "      <td>0.047104</td>\n",
       "      <td>0.047740</td>\n",
       "      <td>0.026098</td>\n",
       "      <td>0.019733</td>\n",
       "      <td>0.005729</td>\n",
       "      <td>0.002546</td>\n",
       "      <td>0.002546</td>\n",
       "      <td>0.000000</td>\n",
       "      <td>0.000000</td>\n",
       "    </tr>\n",
       "    <tr>\n",
       "      <th>8</th>\n",
       "      <td>0.027663</td>\n",
       "      <td>0.229599</td>\n",
       "      <td>0.287690</td>\n",
       "      <td>0.193638</td>\n",
       "      <td>0.117566</td>\n",
       "      <td>0.044260</td>\n",
       "      <td>0.058091</td>\n",
       "      <td>0.017981</td>\n",
       "      <td>0.009682</td>\n",
       "      <td>0.006916</td>\n",
       "      <td>0.005533</td>\n",
       "      <td>0.001383</td>\n",
       "      <td>0.000000</td>\n",
       "      <td>0.000000</td>\n",
       "    </tr>\n",
       "    <tr>\n",
       "      <th>9</th>\n",
       "      <td>0.024609</td>\n",
       "      <td>0.221477</td>\n",
       "      <td>0.237136</td>\n",
       "      <td>0.217002</td>\n",
       "      <td>0.140940</td>\n",
       "      <td>0.058166</td>\n",
       "      <td>0.046980</td>\n",
       "      <td>0.020134</td>\n",
       "      <td>0.020134</td>\n",
       "      <td>0.006711</td>\n",
       "      <td>0.006711</td>\n",
       "      <td>0.000000</td>\n",
       "      <td>0.000000</td>\n",
       "      <td>0.000000</td>\n",
       "    </tr>\n",
       "    <tr>\n",
       "      <th>10</th>\n",
       "      <td>0.044199</td>\n",
       "      <td>0.254144</td>\n",
       "      <td>0.209945</td>\n",
       "      <td>0.237569</td>\n",
       "      <td>0.110497</td>\n",
       "      <td>0.049724</td>\n",
       "      <td>0.055249</td>\n",
       "      <td>0.016575</td>\n",
       "      <td>0.016575</td>\n",
       "      <td>0.000000</td>\n",
       "      <td>0.005525</td>\n",
       "      <td>0.000000</td>\n",
       "      <td>0.000000</td>\n",
       "      <td>0.000000</td>\n",
       "    </tr>\n",
       "    <tr>\n",
       "      <th>11</th>\n",
       "      <td>0.055556</td>\n",
       "      <td>0.175926</td>\n",
       "      <td>0.268519</td>\n",
       "      <td>0.157407</td>\n",
       "      <td>0.111111</td>\n",
       "      <td>0.074074</td>\n",
       "      <td>0.064815</td>\n",
       "      <td>0.009259</td>\n",
       "      <td>0.027778</td>\n",
       "      <td>0.018519</td>\n",
       "      <td>0.018519</td>\n",
       "      <td>0.009259</td>\n",
       "      <td>0.000000</td>\n",
       "      <td>0.009259</td>\n",
       "    </tr>\n",
       "    <tr>\n",
       "      <th>12</th>\n",
       "      <td>0.088235</td>\n",
       "      <td>0.176471</td>\n",
       "      <td>0.294118</td>\n",
       "      <td>0.117647</td>\n",
       "      <td>0.264706</td>\n",
       "      <td>0.000000</td>\n",
       "      <td>0.029412</td>\n",
       "      <td>0.029412</td>\n",
       "      <td>0.000000</td>\n",
       "      <td>0.000000</td>\n",
       "      <td>0.000000</td>\n",
       "      <td>0.000000</td>\n",
       "      <td>0.000000</td>\n",
       "      <td>0.000000</td>\n",
       "    </tr>\n",
       "    <tr>\n",
       "      <th>13</th>\n",
       "      <td>0.000000</td>\n",
       "      <td>0.090909</td>\n",
       "      <td>0.454545</td>\n",
       "      <td>0.090909</td>\n",
       "      <td>0.272727</td>\n",
       "      <td>0.090909</td>\n",
       "      <td>0.000000</td>\n",
       "      <td>0.000000</td>\n",
       "      <td>0.000000</td>\n",
       "      <td>0.000000</td>\n",
       "      <td>0.000000</td>\n",
       "      <td>0.000000</td>\n",
       "      <td>0.000000</td>\n",
       "      <td>0.000000</td>\n",
       "    </tr>\n",
       "    <tr>\n",
       "      <th>14</th>\n",
       "      <td>0.200000</td>\n",
       "      <td>0.200000</td>\n",
       "      <td>0.200000</td>\n",
       "      <td>0.200000</td>\n",
       "      <td>0.200000</td>\n",
       "      <td>0.000000</td>\n",
       "      <td>0.000000</td>\n",
       "      <td>0.000000</td>\n",
       "      <td>0.000000</td>\n",
       "      <td>0.000000</td>\n",
       "      <td>0.000000</td>\n",
       "      <td>0.000000</td>\n",
       "      <td>0.000000</td>\n",
       "      <td>0.000000</td>\n",
       "    </tr>\n",
       "  </tbody>\n",
       "</table>\n",
       "</div>"
      ],
      "text/plain": [
       "          1         2         3         4         5         6         7   \\\n",
       "1   0.061692  0.086957  0.160987  0.263220  0.160400  0.139835  0.071680   \n",
       "2   0.075006  0.126898  0.316338  0.211874  0.109676  0.060050  0.053252   \n",
       "3   0.055493  0.108437  0.207956  0.249009  0.155011  0.087203  0.065827   \n",
       "4   0.073677  0.192494  0.283466  0.185403  0.102214  0.061570  0.052404   \n",
       "5   0.065569  0.194311  0.284132  0.182934  0.097904  0.068862  0.058084   \n",
       "6   0.051742  0.226434  0.268955  0.191086  0.110656  0.049693  0.049180   \n",
       "7   0.050286  0.252705  0.264163  0.179504  0.101846  0.047104  0.047740   \n",
       "8   0.027663  0.229599  0.287690  0.193638  0.117566  0.044260  0.058091   \n",
       "9   0.024609  0.221477  0.237136  0.217002  0.140940  0.058166  0.046980   \n",
       "10  0.044199  0.254144  0.209945  0.237569  0.110497  0.049724  0.055249   \n",
       "11  0.055556  0.175926  0.268519  0.157407  0.111111  0.074074  0.064815   \n",
       "12  0.088235  0.176471  0.294118  0.117647  0.264706  0.000000  0.029412   \n",
       "13  0.000000  0.090909  0.454545  0.090909  0.272727  0.090909  0.000000   \n",
       "14  0.200000  0.200000  0.200000  0.200000  0.200000  0.000000  0.000000   \n",
       "\n",
       "          8         9         10        11        12        13        14  \n",
       "1   0.022914  0.017626  0.009401  0.002350  0.002938  0.000000  0.000000  \n",
       "2   0.019714  0.016315  0.006571  0.002039  0.001586  0.000680  0.000000  \n",
       "3   0.037373  0.017837  0.006653  0.007220  0.001274  0.000425  0.000283  \n",
       "4   0.023348  0.013836  0.006745  0.003286  0.000692  0.000692  0.000173  \n",
       "5   0.025449  0.013473  0.006287  0.002096  0.000599  0.000000  0.000299  \n",
       "6   0.023053  0.021004  0.005123  0.002049  0.000512  0.000512  0.000000  \n",
       "7   0.026098  0.019733  0.005729  0.002546  0.002546  0.000000  0.000000  \n",
       "8   0.017981  0.009682  0.006916  0.005533  0.001383  0.000000  0.000000  \n",
       "9   0.020134  0.020134  0.006711  0.006711  0.000000  0.000000  0.000000  \n",
       "10  0.016575  0.016575  0.000000  0.005525  0.000000  0.000000  0.000000  \n",
       "11  0.009259  0.027778  0.018519  0.018519  0.009259  0.000000  0.009259  \n",
       "12  0.029412  0.000000  0.000000  0.000000  0.000000  0.000000  0.000000  \n",
       "13  0.000000  0.000000  0.000000  0.000000  0.000000  0.000000  0.000000  \n",
       "14  0.000000  0.000000  0.000000  0.000000  0.000000  0.000000  0.000000  "
      ]
     },
     "execution_count": 41,
     "metadata": {},
     "output_type": "execute_result"
    }
   ],
   "source": [
    "transition_table.div(transition_table.sum(axis=1), axis=0)"
   ]
  },
  {
   "cell_type": "markdown",
   "id": "endless-queen",
   "metadata": {},
   "source": [
    "## Taking a shortcut\n",
    "\n",
    "The module `mchmm` provides a quicker way to get to get to the transition counts (=\"train the model\"):"
   ]
  },
  {
   "cell_type": "code",
   "execution_count": 42,
   "id": "excellent-treasure",
   "metadata": {},
   "outputs": [],
   "source": [
    "#Train Markov model on the sequence of word lengths\n",
    "ALICE_markov = mchmm.MarkovChain().from_data(wl)"
   ]
  },
  {
   "cell_type": "markdown",
   "id": "functional-algeria",
   "metadata": {},
   "source": [
    "Once more, we can show the matrix of observed transition counts from a word of length x to a word of length y as a pd.DataFrame:"
   ]
  },
  {
   "cell_type": "code",
   "execution_count": 43,
   "id": "understanding-third",
   "metadata": {},
   "outputs": [
    {
     "data": {
      "text/html": [
       "<div>\n",
       "<style scoped>\n",
       "    .dataframe tbody tr th:only-of-type {\n",
       "        vertical-align: middle;\n",
       "    }\n",
       "\n",
       "    .dataframe tbody tr th {\n",
       "        vertical-align: top;\n",
       "    }\n",
       "\n",
       "    .dataframe thead th {\n",
       "        text-align: right;\n",
       "    }\n",
       "</style>\n",
       "<table border=\"1\" class=\"dataframe\">\n",
       "  <thead>\n",
       "    <tr style=\"text-align: right;\">\n",
       "      <th></th>\n",
       "      <th>1</th>\n",
       "      <th>2</th>\n",
       "      <th>3</th>\n",
       "      <th>4</th>\n",
       "      <th>5</th>\n",
       "      <th>6</th>\n",
       "      <th>7</th>\n",
       "      <th>8</th>\n",
       "      <th>9</th>\n",
       "      <th>10</th>\n",
       "      <th>11</th>\n",
       "      <th>12</th>\n",
       "      <th>13</th>\n",
       "      <th>14</th>\n",
       "    </tr>\n",
       "  </thead>\n",
       "  <tbody>\n",
       "    <tr>\n",
       "      <th>1</th>\n",
       "      <td>105</td>\n",
       "      <td>148</td>\n",
       "      <td>274</td>\n",
       "      <td>448</td>\n",
       "      <td>273</td>\n",
       "      <td>238</td>\n",
       "      <td>122</td>\n",
       "      <td>39</td>\n",
       "      <td>30</td>\n",
       "      <td>16</td>\n",
       "      <td>4</td>\n",
       "      <td>5</td>\n",
       "      <td>0</td>\n",
       "      <td>0</td>\n",
       "    </tr>\n",
       "    <tr>\n",
       "      <th>2</th>\n",
       "      <td>331</td>\n",
       "      <td>560</td>\n",
       "      <td>1396</td>\n",
       "      <td>935</td>\n",
       "      <td>484</td>\n",
       "      <td>265</td>\n",
       "      <td>235</td>\n",
       "      <td>87</td>\n",
       "      <td>72</td>\n",
       "      <td>29</td>\n",
       "      <td>9</td>\n",
       "      <td>7</td>\n",
       "      <td>3</td>\n",
       "      <td>0</td>\n",
       "    </tr>\n",
       "    <tr>\n",
       "      <th>3</th>\n",
       "      <td>392</td>\n",
       "      <td>766</td>\n",
       "      <td>1469</td>\n",
       "      <td>1759</td>\n",
       "      <td>1095</td>\n",
       "      <td>616</td>\n",
       "      <td>465</td>\n",
       "      <td>264</td>\n",
       "      <td>126</td>\n",
       "      <td>47</td>\n",
       "      <td>51</td>\n",
       "      <td>9</td>\n",
       "      <td>3</td>\n",
       "      <td>2</td>\n",
       "    </tr>\n",
       "    <tr>\n",
       "      <th>4</th>\n",
       "      <td>426</td>\n",
       "      <td>1113</td>\n",
       "      <td>1639</td>\n",
       "      <td>1072</td>\n",
       "      <td>591</td>\n",
       "      <td>356</td>\n",
       "      <td>303</td>\n",
       "      <td>135</td>\n",
       "      <td>80</td>\n",
       "      <td>39</td>\n",
       "      <td>19</td>\n",
       "      <td>4</td>\n",
       "      <td>4</td>\n",
       "      <td>1</td>\n",
       "    </tr>\n",
       "    <tr>\n",
       "      <th>5</th>\n",
       "      <td>219</td>\n",
       "      <td>649</td>\n",
       "      <td>949</td>\n",
       "      <td>611</td>\n",
       "      <td>327</td>\n",
       "      <td>230</td>\n",
       "      <td>194</td>\n",
       "      <td>85</td>\n",
       "      <td>45</td>\n",
       "      <td>21</td>\n",
       "      <td>7</td>\n",
       "      <td>2</td>\n",
       "      <td>0</td>\n",
       "      <td>1</td>\n",
       "    </tr>\n",
       "    <tr>\n",
       "      <th>6</th>\n",
       "      <td>101</td>\n",
       "      <td>442</td>\n",
       "      <td>525</td>\n",
       "      <td>373</td>\n",
       "      <td>216</td>\n",
       "      <td>97</td>\n",
       "      <td>96</td>\n",
       "      <td>45</td>\n",
       "      <td>41</td>\n",
       "      <td>10</td>\n",
       "      <td>4</td>\n",
       "      <td>1</td>\n",
       "      <td>1</td>\n",
       "      <td>0</td>\n",
       "    </tr>\n",
       "    <tr>\n",
       "      <th>7</th>\n",
       "      <td>79</td>\n",
       "      <td>397</td>\n",
       "      <td>415</td>\n",
       "      <td>282</td>\n",
       "      <td>160</td>\n",
       "      <td>74</td>\n",
       "      <td>75</td>\n",
       "      <td>41</td>\n",
       "      <td>31</td>\n",
       "      <td>9</td>\n",
       "      <td>4</td>\n",
       "      <td>4</td>\n",
       "      <td>0</td>\n",
       "      <td>0</td>\n",
       "    </tr>\n",
       "    <tr>\n",
       "      <th>8</th>\n",
       "      <td>20</td>\n",
       "      <td>166</td>\n",
       "      <td>208</td>\n",
       "      <td>140</td>\n",
       "      <td>85</td>\n",
       "      <td>32</td>\n",
       "      <td>42</td>\n",
       "      <td>13</td>\n",
       "      <td>7</td>\n",
       "      <td>5</td>\n",
       "      <td>4</td>\n",
       "      <td>1</td>\n",
       "      <td>0</td>\n",
       "      <td>0</td>\n",
       "    </tr>\n",
       "    <tr>\n",
       "      <th>9</th>\n",
       "      <td>11</td>\n",
       "      <td>99</td>\n",
       "      <td>106</td>\n",
       "      <td>97</td>\n",
       "      <td>63</td>\n",
       "      <td>26</td>\n",
       "      <td>21</td>\n",
       "      <td>9</td>\n",
       "      <td>9</td>\n",
       "      <td>3</td>\n",
       "      <td>3</td>\n",
       "      <td>0</td>\n",
       "      <td>0</td>\n",
       "      <td>0</td>\n",
       "    </tr>\n",
       "    <tr>\n",
       "      <th>10</th>\n",
       "      <td>8</td>\n",
       "      <td>46</td>\n",
       "      <td>38</td>\n",
       "      <td>43</td>\n",
       "      <td>20</td>\n",
       "      <td>9</td>\n",
       "      <td>10</td>\n",
       "      <td>3</td>\n",
       "      <td>3</td>\n",
       "      <td>0</td>\n",
       "      <td>1</td>\n",
       "      <td>0</td>\n",
       "      <td>0</td>\n",
       "      <td>0</td>\n",
       "    </tr>\n",
       "    <tr>\n",
       "      <th>11</th>\n",
       "      <td>6</td>\n",
       "      <td>19</td>\n",
       "      <td>29</td>\n",
       "      <td>17</td>\n",
       "      <td>12</td>\n",
       "      <td>8</td>\n",
       "      <td>7</td>\n",
       "      <td>1</td>\n",
       "      <td>3</td>\n",
       "      <td>2</td>\n",
       "      <td>2</td>\n",
       "      <td>1</td>\n",
       "      <td>0</td>\n",
       "      <td>1</td>\n",
       "    </tr>\n",
       "    <tr>\n",
       "      <th>12</th>\n",
       "      <td>3</td>\n",
       "      <td>6</td>\n",
       "      <td>10</td>\n",
       "      <td>4</td>\n",
       "      <td>9</td>\n",
       "      <td>0</td>\n",
       "      <td>1</td>\n",
       "      <td>1</td>\n",
       "      <td>0</td>\n",
       "      <td>0</td>\n",
       "      <td>0</td>\n",
       "      <td>0</td>\n",
       "      <td>0</td>\n",
       "      <td>0</td>\n",
       "    </tr>\n",
       "    <tr>\n",
       "      <th>13</th>\n",
       "      <td>0</td>\n",
       "      <td>1</td>\n",
       "      <td>5</td>\n",
       "      <td>1</td>\n",
       "      <td>3</td>\n",
       "      <td>1</td>\n",
       "      <td>0</td>\n",
       "      <td>0</td>\n",
       "      <td>0</td>\n",
       "      <td>0</td>\n",
       "      <td>0</td>\n",
       "      <td>0</td>\n",
       "      <td>0</td>\n",
       "      <td>0</td>\n",
       "    </tr>\n",
       "    <tr>\n",
       "      <th>14</th>\n",
       "      <td>1</td>\n",
       "      <td>1</td>\n",
       "      <td>1</td>\n",
       "      <td>1</td>\n",
       "      <td>1</td>\n",
       "      <td>0</td>\n",
       "      <td>0</td>\n",
       "      <td>0</td>\n",
       "      <td>0</td>\n",
       "      <td>0</td>\n",
       "      <td>0</td>\n",
       "      <td>0</td>\n",
       "      <td>0</td>\n",
       "      <td>0</td>\n",
       "    </tr>\n",
       "  </tbody>\n",
       "</table>\n",
       "</div>"
      ],
      "text/plain": [
       "     1     2     3     4     5    6    7    8    9   10  11  12  13  14\n",
       "1   105   148   274   448   273  238  122   39   30  16   4   5   0   0\n",
       "2   331   560  1396   935   484  265  235   87   72  29   9   7   3   0\n",
       "3   392   766  1469  1759  1095  616  465  264  126  47  51   9   3   2\n",
       "4   426  1113  1639  1072   591  356  303  135   80  39  19   4   4   1\n",
       "5   219   649   949   611   327  230  194   85   45  21   7   2   0   1\n",
       "6   101   442   525   373   216   97   96   45   41  10   4   1   1   0\n",
       "7    79   397   415   282   160   74   75   41   31   9   4   4   0   0\n",
       "8    20   166   208   140    85   32   42   13    7   5   4   1   0   0\n",
       "9    11    99   106    97    63   26   21    9    9   3   3   0   0   0\n",
       "10    8    46    38    43    20    9   10    3    3   0   1   0   0   0\n",
       "11    6    19    29    17    12    8    7    1    3   2   2   1   0   1\n",
       "12    3     6    10     4     9    0    1    1    0   0   0   0   0   0\n",
       "13    0     1     5     1     3    1    0    0    0   0   0   0   0   0\n",
       "14    1     1     1     1     1    0    0    0    0   0   0   0   0   0"
      ]
     },
     "execution_count": 43,
     "metadata": {},
     "output_type": "execute_result"
    }
   ],
   "source": [
    "#Showing the transition (frequency) matrix\n",
    "pd.DataFrame(ALICE_markov.observed_matrix, index = ALICE_markov.states, columns = ALICE_markov.states, dtype = int)"
   ]
  },
  {
   "cell_type": "markdown",
   "id": "patient-ceramic",
   "metadata": {},
   "source": [
    "Now, we can generate a new sequence of integers (word lengths) with the markov model trained on Carrol's text. The `simulate` method of a `mchmm.MarkovChain()` object returns a list of *states* (i.e., actual word lengths) and the list of their *ID*s (i.e., the ordinal position of each state among the possible wordlengths that have been found in Carrol's text). "
   ]
  },
  {
   "cell_type": "code",
   "execution_count": 44,
   "id": "mounted-valuation",
   "metadata": {},
   "outputs": [],
   "source": [
    "#Simulate sequence of durations from ALICE_markov\n",
    "chain_length = 12 #number of events to generate\n",
    "\n",
    "#Markovian generation, starting with word length 3 (arbitrary).\n",
    "ids, states = ALICE_markov.simulate(chain_length, start=3, seed=np.random.randint(0, chain_length, chain_length))"
   ]
  },
  {
   "cell_type": "markdown",
   "id": "abstract-performer",
   "metadata": {},
   "source": [
    "We can now play the resulting sequence. First, we need to decide a scaling factor to turn integers into durations (here, we opt to equate a letter to a sixteenth-note)."
   ]
  },
  {
   "cell_type": "code",
   "execution_count": 45,
   "id": "published-survey",
   "metadata": {},
   "outputs": [],
   "source": [
    "play(rhythm_from_sequence(states*1/16)) #With scaling factor 1/16"
   ]
  },
  {
   "cell_type": "markdown",
   "id": "israeli-england",
   "metadata": {},
   "source": [
    "# 4. Hierarchical generation of rhythm"
   ]
  },
  {
   "cell_type": "markdown",
   "id": "rising-addiction",
   "metadata": {},
   "source": [
    "In a Markov model, each rhythmic event depends on the preceding one(s). A different approach to modelling rhythm is to interpret rhythmic events as recursive elaborations of a latent rhythmic structure. The following example of hierarchical rhythm generation is based on the grammar from Rohrmeier (2020) https://program.ismir2020.net/poster_4-20.html."
   ]
  },
  {
   "cell_type": "markdown",
   "id": "sweet-vertical",
   "metadata": {},
   "source": [
    "## Rhythmic objects"
   ]
  },
  {
   "cell_type": "markdown",
   "id": "boxed-stadium",
   "metadata": {},
   "source": [
    "First, in this formalism, a rhythmic category is a 3-ple of parameters defining a time-span: the upbeat, the body and the tail. The body represents the \"ideal\" duration of the timespan, if no extensions or timestealing happen. The upbeat encodes the addition (if positive) or subtraction (if negative) of a portion at the beginning of the timespan. Similarly, the coda encodes the addition (if positive) or subtraction (if negative) of a portion at the end of the timespan. As a consequence, the overall duration of a timespan (a, b, c) is a+b+c. \n",
    "\n",
    "Each rhythmic category can generate other rhythmic categories by means of the application of a rule."
   ]
  },
  {
   "cell_type": "markdown",
   "id": "optional-flexibility",
   "metadata": {},
   "source": [
    "We define a rhythmic category as a `class`. Among the methods of this class we define the rule applications. \n",
    "<div class=\"alert alert-success\" role=\"alert\">\n",
    "  <h4 class=\"alert-heading\">Classes</h4>\n",
    "    By now you now what objects are and do and how to define new functions. The last important building block of Python is defining your own objects, which you do by defining a class, as shown below. As soon as you have defined a class with no content, e.g. class test_class: pass, you can create new instances of it (i.e. objects) by simply going variable = test_class(). Most class definitions begin with the special method __init__() which is automatically called when an instance is initiated. By convention, all properties are defined in the __init__() function by setting them to some value. Everytime a method calls on another method or property of the same class, it refers to itself using the keyword self.\n",
    "</div>"
   ]
  },
  {
   "cell_type": "code",
   "execution_count": 46,
   "id": "exotic-strengthening",
   "metadata": {},
   "outputs": [],
   "source": [
    "class rhythmic_category:\n",
    "    def __init__(self, upbeat, body, tail):\n",
    "        #Parameters\n",
    "        self.upbeat = upbeat\n",
    "        self.body = body\n",
    "        self.tail = tail\n",
    "        self.parameters = (upbeat, body, tail)\n",
    "       \n",
    "    def showScore(self):\n",
    "        #A helper function to display the rhythmic category. Shows a positive upbeat separately from the body+tail\n",
    "        sequence = [self.upbeat, self.body + self.tail]\n",
    "        if self.upbeat < 0:\n",
    "            sequence[0] = 0\n",
    "            sequence[1] += self.upbeat\n",
    "            \n",
    "        return rhythm_from_sequence(sequence).show()\n",
    "        \n",
    "        \n",
    "    \n",
    "        \n",
    "    ####    \n",
    "    #Rule applications\n",
    "    ####\n",
    "    \n",
    "    def split(self, ratio = 1/2, right_child_upbeat = 0):\n",
    "        #SPLIT operation on parent metrical category, based on ratio = left_child_body/parent.body. \n",
    "        #An upbeat for the right child can be specified.\n",
    "        left_child_body = self.body*ratio\n",
    "        right_child_body = self.body-left_child_body\n",
    "    \n",
    "        left_child_cat = rhythmic_category(self.upbeat, left_child_body, - right_child_upbeat)\n",
    "        right_child_cat = rhythmic_category(right_child_upbeat, right_child_body, self.tail)\n",
    "    \n",
    "        return list(deepflatten([left_child_cat, right_child_cat]))\n",
    "    \n",
    "    def prepare(self):\n",
    "        #UPBEAT rule: separates upbeat from body\n",
    "        if self.upbeat > 0:\n",
    "            left_child_cat = rhythmic_category(0, self.upbeat, 0)\n",
    "            right_child_cat = rhythmic_category(0, self.body, self.tail)\n",
    "    \n",
    "            return list(deepflatten([left_child_cat,  right_child_cat]))\n",
    "        else:\n",
    "            return [self]\n",
    "        \n",
    "    def e_shift(self):\n",
    "        #ANTICIPATE rule: shifts body to the left\n",
    "        return [rhythmic_category(0, self.body, self.upbeat+self.tail)]\n",
    "    \n",
    "    def l_shift(self):\n",
    "        #DELAY rule: shifts body to the right\n",
    "        return [rhythmic_category(self.upbeat + self.tail, self.body, 0)]\n",
    "    \n",
    "    ####\n",
    "    #Helpers to derive terminal durations at the end of a derivation\n",
    "    ####\n",
    "    \n",
    "    def timesteal(self):\n",
    "        #TIMESTEALING. If a category is left with negative upbeat or tail, subtract it from the body\n",
    "        new_upbeat = self.upbeat\n",
    "        new_tail = self.tail\n",
    "        timestolen_body = self.body\n",
    "        if self.upbeat < 0:\n",
    "            new_upbeat = 0\n",
    "            timestolen_body += self.upbeat\n",
    "        if self.tail < 0:\n",
    "            new_tail = 0\n",
    "            timestolen_body += self.tail\n",
    "        return [rhythmic_category(new_upbeat, timestolen_body, new_tail)]\n",
    "    \n",
    "    def attach_tail(self):\n",
    "        #Attach tail to body, to be used if tail > 0\n",
    "        return [rhythmic_category(self.upbeat, self.body+self.tail, 0)]\n",
    "\n",
    "    \n",
    "    def get_terminals(self):\n",
    "    #Recursively get terminal durations from metrical categories.\n",
    "    #ARBITRARY CONVENTIONS TO TERMINATE DERIVATION: If there is negative head or tail, interpret as timestealing. If there is positive head, interpret as preparation. If there is positive tail, attch it to the body.\n",
    "    \n",
    "        if (self.upbeat == 0) and (self.tail == 0):\n",
    "            return [self.body]\n",
    "        elif (self.upbeat < 0) | (self.tail < 0):\n",
    "            return  list(deepflatten([x.get_terminals() for x in self.timesteal()]))\n",
    "        elif self.tail > 0:\n",
    "            return  list(deepflatten([x.get_terminals() for x in self.attach_tail()]))\n",
    "        elif self.upbeat > 0:\n",
    "            return list(deepflatten([x.get_terminals() for x in self.prepare()]))\n",
    "    \n",
    "        \n",
    "        "
   ]
  },
  {
   "cell_type": "markdown",
   "id": "hired-subscription",
   "metadata": {},
   "source": [
    "For example, here is a rhythmic category:"
   ]
  },
  {
   "cell_type": "code",
   "execution_count": 47,
   "id": "south-springfield",
   "metadata": {},
   "outputs": [
    {
     "data": {
      "image/png": "[encoded data removed]",
      "text/plain": [
       "<IPython.core.display.Image object>"
      ]
     },
     "metadata": {
      "image/png": {
       "height": 49,
       "width": 234
      }
     },
     "output_type": "display_data"
    }
   ],
   "source": [
    "example_category = rhythmic_category(1/4, 1, 0)\n",
    "example_category.showScore()"
   ]
  },
  {
   "cell_type": "markdown",
   "id": "failing-button",
   "metadata": {},
   "source": [
    "Rules can be applied to have this \"parent\" category generate other categories as its own \"children\"."
   ]
  },
  {
   "cell_type": "markdown",
   "id": "broadband-agreement",
   "metadata": {},
   "source": [
    "**Split**. This rule splits a rhythmic category into two \"children\" by dividing the body into two parts. The left child inherits the upbeat of the parent category, while the right child inherits the coda of the parent category. Finally, the right child might \"steal\" a portion from the left child (if the right child has a positive upbeat), or vice-versa (if the right child has a negative upbeat). The split rule comes with two parameters. First, the split ratio (which is often 1/2, representing an equal split). The second parameter is optional, and specifies the upbeat of the right child (default is 0)."
   ]
  },
  {
   "cell_type": "code",
   "execution_count": 48,
   "id": "clinical-difference",
   "metadata": {},
   "outputs": [
    {
     "data": {
      "text/plain": [
       "[<__main__.rhythmic_category at 0x2d2d5641e80>,\n",
       " <__main__.rhythmic_category at 0x2d2d56416a0>]"
      ]
     },
     "execution_count": 48,
     "metadata": {},
     "output_type": "execute_result"
    }
   ],
   "source": [
    "splitted_example = example_category.split(1/2)\n",
    "splitted_example"
   ]
  },
  {
   "cell_type": "code",
   "execution_count": 49,
   "id": "choice-wages",
   "metadata": {},
   "outputs": [
    {
     "data": {
      "text/plain": [
       "[(0.25, 0.5, 0), (0, 0.5, 0)]"
      ]
     },
     "execution_count": 49,
     "metadata": {},
     "output_type": "execute_result"
    }
   ],
   "source": [
    "[child.parameters for child in splitted_example]"
   ]
  },
  {
   "cell_type": "markdown",
   "id": "warming-school",
   "metadata": {},
   "source": [
    "Note that this is an equal split where the children do not steal time from each other. Here we have a different split, where the right child has an upbeat, hence stealing time from the left child:"
   ]
  },
  {
   "cell_type": "code",
   "execution_count": 50,
   "id": "general-collapse",
   "metadata": {},
   "outputs": [
    {
     "data": {
      "text/plain": [
       "[(0.25, 0.5, -0.0625), (0.0625, 0.5, 0)]"
      ]
     },
     "execution_count": 50,
     "metadata": {},
     "output_type": "execute_result"
    }
   ],
   "source": [
    "splitted_example_with_upbeat = example_category.split(1/2, 1/16)\n",
    "[child.parameters for child in splitted_example_with_upbeat]"
   ]
  },
  {
   "cell_type": "markdown",
   "id": "latter-encyclopedia",
   "metadata": {},
   "source": [
    "**Prepare**. This rule separates the upbeat (if it is positive) from the body, creating two distinct rhytmic categories: one inherits the parent's upbeat as its own body, the other inherits the parent's body and tail (but has not upbeat)."
   ]
  },
  {
   "cell_type": "code",
   "execution_count": 51,
   "id": "mineral-findings",
   "metadata": {},
   "outputs": [
    {
     "data": {
      "text/plain": [
       "[(0, 0.25, 0), (0, 1, 0)]"
      ]
     },
     "execution_count": 51,
     "metadata": {},
     "output_type": "execute_result"
    }
   ],
   "source": [
    "[child.parameters for child in example_category.prepare()]"
   ]
  },
  {
   "cell_type": "markdown",
   "id": "dressed-violin",
   "metadata": {},
   "source": [
    "**Anticipate and Delay**: these two rules are unary rules, i.e. the parent is simply transformed into one different category. In the anticipation (or e-shift) rule, the upbeat is absorbed into the body, so that the body of the timespan is shifted to the left. The delay (or l-shift) rule does the opposite.\n",
    "\n",
    "Here is, for example, an application of the anticipation rule. Since this is a unary rule, only one child is generated:"
   ]
  },
  {
   "cell_type": "code",
   "execution_count": 52,
   "id": "controlled-dividend",
   "metadata": {},
   "outputs": [
    {
     "data": {
      "text/plain": [
       "[(0, 1, 0.25)]"
      ]
     },
     "execution_count": 52,
     "metadata": {},
     "output_type": "execute_result"
    }
   ],
   "source": [
    "[child.parameters for child in example_category.e_shift()]"
   ]
  },
  {
   "cell_type": "markdown",
   "id": "suburban-family",
   "metadata": {},
   "source": [
    "## Generation"
   ]
  },
  {
   "cell_type": "markdown",
   "id": "brilliant-newman",
   "metadata": {},
   "source": [
    "Starting with a \"root\" rhythmic category, we can apply these rules recursively to generate a rhythm within the timespan of the root.\n",
    "\n",
    "Let us first define some useful functions."
   ]
  },
  {
   "cell_type": "markdown",
   "id": "comfortable-yahoo",
   "metadata": {},
   "source": [
    "The `rule` function just specifies a rule to be applied, with its parameters."
   ]
  },
  {
   "cell_type": "code",
   "execution_count": 53,
   "id": "sonic-teens",
   "metadata": {},
   "outputs": [],
   "source": [
    "def rule(rule_type, p1 = None, p2 = None):\n",
    "    #Returns dictionary specifying a rule with its parameters\n",
    "    \n",
    "    rule_def = {'type': rule_type}\n",
    "    \n",
    "    if p1 != None:\n",
    "        rule_def['p1'] = p1\n",
    "    if p2 != None:\n",
    "        rule_def['p2'] = p2\n",
    "    \n",
    "    return rule_def\n",
    "    "
   ]
  },
  {
   "cell_type": "markdown",
   "id": "purple-journal",
   "metadata": {},
   "source": [
    "The `generate_hierarchical_rhythm` function is the most important one. In order to generate a rhythm, we need a root category and a recipe that specifies what rules are to be applied (and in what order). Given a recipe and a root category, this function reads the recipe and applies the required rules recursively to the children, grand-children, grand-grand-children etc. of the root category.  "
   ]
  },
  {
   "cell_type": "code",
   "execution_count": 54,
   "id": "resistant-speaker",
   "metadata": {},
   "outputs": [],
   "source": [
    "def generate_hierarchical_rhythm(tree, starting_symbol, preterminal_string = []):\n",
    "    #Recursively generate rhythm from a hierarchy of rule applications\n",
    "    \n",
    "    if len(tree) == 0:\n",
    "        return preterminal_string + [starting_symbol]\n",
    "    else:\n",
    "        rule = tree[0]\n",
    "        if rule['type'] == 'split':\n",
    "            children = starting_symbol.split(ratio = rule['p1'], right_child_upbeat = rule['p2'])\n",
    "        elif rule['type'] == 'prepare':\n",
    "            children = starting_symbol.prepare()\n",
    "        elif rule['type'] == 'anticipate':\n",
    "            children = starting_symbol.e_shift()\n",
    "        elif rule['type'] == 'delay':\n",
    "            children = starting_symbol.l_shift()\n",
    "            \n",
    "               \n",
    "        for child_n in range(len(children)):\n",
    "            preterminal_string = generate_hierarchical_rhythm(tree[child_n+1], children[child_n], preterminal_string = preterminal_string)\n",
    "                \n",
    "    \n",
    "        return preterminal_string\n",
    "    "
   ]
  },
  {
   "cell_type": "markdown",
   "id": "upper-above",
   "metadata": {},
   "source": [
    "The last few function just help to turn the output of `generate_hierarchical_rhythm` into a list of durations, and to turn this list of durations into a music21 stream."
   ]
  },
  {
   "cell_type": "code",
   "execution_count": 55,
   "id": "remarkable-rogers",
   "metadata": {},
   "outputs": [],
   "source": [
    "def get_terminal_durations(rhythmic_categories):\n",
    "    #Turns list of pre-terminal categories in list of terminal durations\n",
    "    return list(deepflatten([x.get_terminals() for x in rhythmic_categories]))\n",
    "\n",
    "\n",
    "def hierarchical_rhythm(tree, starting_symbol):\n",
    "    #generate list of durations hierarchically\n",
    "    return get_terminal_durations(generate_hierarchical_rhythm(tree, starting_symbol))\n",
    "\n",
    "def rhythm(tree, starting_symbol, time_sig = None):\n",
    "    #Show score  \n",
    "    return rhythm_from_sequence(hierarchical_rhythm(tree, starting_symbol), time_sig = time_sig)\n",
    "    "
   ]
  },
  {
   "cell_type": "markdown",
   "id": "terminal-lighting",
   "metadata": {},
   "source": [
    "Here, as an example, we generate the initial rhythm from the Jazz standard \"Blue Bossa\" (Rohrmeier 2020) \n",
    "https://youtu.be/U7eOs5lERww?t=12"
   ]
  },
  {
   "cell_type": "markdown",
   "id": "olympic-marketplace",
   "metadata": {},
   "source": [
    "<img src=\"BlueBossa.png\">"
   ]
  },
  {
   "cell_type": "markdown",
   "id": "liked-anger",
   "metadata": {},
   "source": [
    "The rhythm lasts 4 bars (in 4/4 meter) plus a 1/4 upbeat, so that the root category is:"
   ]
  },
  {
   "cell_type": "code",
   "execution_count": 56,
   "id": "casual-electricity",
   "metadata": {},
   "outputs": [],
   "source": [
    "root = rhythmic_category(1/4, 4, 0)"
   ]
  },
  {
   "cell_type": "markdown",
   "id": "warming-sampling",
   "metadata": {},
   "source": [
    "<img src=\"bb01.png\">\n",
    "The recipe to generate a rhythm can be represented in the form of a derivation tree. Each node of the tree is occupied by a rhythmic category, and the branches originating at a node lead to the children of that node under some rule application. A full derivation tree for the example from Blue Bossa is the following: "
   ]
  },
  {
   "cell_type": "markdown",
   "id": "vocal-tampa",
   "metadata": {},
   "source": [
    "<img src=\"HierarchicalRhythm.png\">"
   ]
  },
  {
   "cell_type": "markdown",
   "id": "organic-rebound",
   "metadata": {},
   "source": [
    "Let us start from the top of the tree, where we find the root category. The first branching is a split rule (the body is split in half), leading to two children nodes. We can represent a node of the tree as a list, containing the rule applied at that node (if any), as well as its children nodes. In the case of the topmost node in the above tree, the rule is a split with ratio 1/2 and right-child's head 1/4. Since we are not applying any rule to the two children nodes (yet), they are represented as empty lists. "
   ]
  },
  {
   "cell_type": "code",
   "execution_count": 57,
   "id": "therapeutic-belarus",
   "metadata": {},
   "outputs": [],
   "source": [
    "tree = [rule('split',1/2, 1/4), #root\n",
    "            [], #left child of the root\n",
    "            []  #right child of the root\n",
    "       ]"
   ]
  },
  {
   "cell_type": "markdown",
   "id": "signed-qatar",
   "metadata": {},
   "source": [
    "The function `rhythm` takes a tree and a root as arguments and returns a music21 stream with the resulting rhythm. In order to do that, it calls the recursive function `generate_hierarchical_rhythm` that reads the tree and applies the rule applications, starting with the root category."
   ]
  },
  {
   "cell_type": "code",
   "execution_count": 58,
   "id": "worse-sustainability",
   "metadata": {},
   "outputs": [],
   "source": [
    "generated_rhythm = rhythm(tree, root)"
   ]
  },
  {
   "cell_type": "markdown",
   "id": "driving-veteran",
   "metadata": {},
   "source": [
    "<img src=\"bb02.png\">\n",
    "Let's look now at the left child of the root node. Here, another split rule is applied, resulting in two children with equal body (split factor 1/2) and a 1/8 upbeat for the right child. "
   ]
  },
  {
   "cell_type": "code",
   "execution_count": 59,
   "id": "sought-damage",
   "metadata": {},
   "outputs": [],
   "source": [
    "tree = [rule('split',1/2, 1/4), #root\n",
    "            [rule('split', 1/2, 1/8), #left child of the root\n",
    "                 [], #left child of the left child of the root\n",
    "                 []  #right child of the left child of the root\n",
    "            ],\n",
    "            [] #right child of the root\n",
    "       ]\n",
    "generated_rhythm = rhythm(tree, root)\n",
    "play(generated_rhythm)"
   ]
  },
  {
   "cell_type": "markdown",
   "id": "revolutionary-lawyer",
   "metadata": {},
   "source": [
    "<img src=\"bb03.png\">\n",
    "The left child of the left child of the root also undergoes a split operation..."
   ]
  },
  {
   "cell_type": "code",
   "execution_count": 60,
   "id": "piano-beverage",
   "metadata": {},
   "outputs": [],
   "source": [
    "tree = [rule('split',1/2, 1/4), #root\n",
    "            [rule('split', 1/2, 1/8), #left child of the root\n",
    "                 [rule('split', 1/2, 1/8), #left child of the left child of the root\n",
    "                      [], #left child of the left child of the left child of the root\n",
    "                      []  #right child of the left child of the left child of the root\n",
    "                 ],\n",
    "                 [] #right child of the left child of the root\n",
    "            ],\n",
    "            [] #right child of the root\n",
    "       ]\n",
    "generated_rhythm = rhythm(tree, root)\n",
    "play(generated_rhythm)"
   ]
  },
  {
   "cell_type": "markdown",
   "id": "frequent-marshall",
   "metadata": {},
   "source": [
    "<img src=\"bb04.png\">\n",
    "... while its own left child (i.e., of the left child of the left child of the root) undergoes a preparation rule..."
   ]
  },
  {
   "cell_type": "code",
   "execution_count": 61,
   "id": "christian-blues",
   "metadata": {},
   "outputs": [],
   "source": [
    "tree = [rule('split',1/2, 1/4), #root\n",
    "            [rule('split', 1/2, 1/8), #left child of the root\n",
    "                 [rule('split', 1/2, 1/8), #left child of the left child of the root\n",
    "                      [rule('prepare'), #left child of the left child of the left child of the root\n",
    "                           [], #left child of the left child of the left child of the left child of the root\n",
    "                           []  #right child of the left child of the left child of the left child of the root\n",
    "                      ],\n",
    "                      [] #right child of the left child of the left child of the root\n",
    "                 ],\n",
    "                 [] #right child of the left child of the root\n",
    "            ],\n",
    "            [] #right child of the root\n",
    "       ]\n",
    "generated_rhythm = rhythm(tree, root)\n",
    "play(generated_rhythm)"
   ]
  },
  {
   "cell_type": "markdown",
   "id": "considered-graham",
   "metadata": {},
   "source": [
    "... similarly to the right child of the left child of the left child of the root:"
   ]
  },
  {
   "cell_type": "code",
   "execution_count": 62,
   "id": "younger-northern",
   "metadata": {},
   "outputs": [],
   "source": [
    "tree = [rule('split',1/2, 1/4),\n",
    "            [rule('split', 1/2, 1/8),\n",
    "                 [rule('split', 1/2, 1/8),\n",
    "                      [rule('prepare'),\n",
    "                           [],\n",
    "                           []\n",
    "                      ],\n",
    "                      [rule('prepare'),\n",
    "                           [],\n",
    "                           []\n",
    "                      ]\n",
    "                 ],\n",
    "                 []\n",
    "            ],\n",
    "            []\n",
    "       ]\n",
    "generated_rhythm = rhythm(tree, root)\n",
    "play(generated_rhythm)"
   ]
  },
  {
   "cell_type": "markdown",
   "id": "official-colorado",
   "metadata": {},
   "source": [
    "The right child of this preparation rule is further elaborated with a split, whose right child is then anticipated:"
   ]
  },
  {
   "cell_type": "code",
   "execution_count": 63,
   "id": "thick-tenant",
   "metadata": {},
   "outputs": [],
   "source": [
    "tree = [rule('split',1/2, 1/4),\n",
    "            [rule('split', 1/2, 1/8),\n",
    "                 [rule('split', 1/2, 1/8),\n",
    "                      [rule('prepare'),\n",
    "                           [],\n",
    "                           []\n",
    "                      ],\n",
    "                      [rule('prepare'),\n",
    "                           [],\n",
    "                           [rule('split', 1/2, 1/8),\n",
    "                                [],\n",
    "                                [rule('anticipate'),\n",
    "                                     []\n",
    "                                ]\n",
    "                           ]\n",
    "                      ]\n",
    "                 ],\n",
    "                 []\n",
    "            ],\n",
    "            []\n",
    "       ]\n",
    "generated_rhythm = rhythm(tree, root)\n",
    "play(generated_rhythm)"
   ]
  },
  {
   "cell_type": "markdown",
   "id": "communist-anger",
   "metadata": {},
   "source": [
    "<img src=\"bb06.png\">\n",
    "Fast-forward to the whole tree:"
   ]
  },
  {
   "cell_type": "code",
   "execution_count": 64,
   "id": "thermal-night",
   "metadata": {},
   "outputs": [],
   "source": [
    "complete_tree = [rule('split',1/2, 1/4),\n",
    "            [rule('split', 1/2, 1/8),\n",
    "                 [rule('split', 1/2, 1/8),\n",
    "                      [rule('prepare'),\n",
    "                           [],\n",
    "                           []\n",
    "                      ],\n",
    "                      [rule('prepare'),\n",
    "                           [],\n",
    "                           [rule('split', 1/2, 1/8),\n",
    "                                [],\n",
    "                                [rule('anticipate'),\n",
    "                                     []\n",
    "                                ]\n",
    "                           ]\n",
    "                      ]\n",
    "                 ],\n",
    "                 [rule('anticipate'),\n",
    "                     []\n",
    "                 ]\n",
    "            ],\n",
    "            [rule('split', 1/2, 1/8),\n",
    "                 [rule('split', 1/2, 1/8),\n",
    "                      [rule('prepare'),\n",
    "                           [],\n",
    "                           []\n",
    "                      ],\n",
    "                      [rule('anticipate'),\n",
    "                           []\n",
    "                      ]\n",
    "                 ],\n",
    "                 [rule('anticipate'),\n",
    "                      []\n",
    "                 ]\n",
    "            ]\n",
    "       ]\n",
    "\n",
    "generated_rhythm_complete = rhythm(complete_tree, root)\n",
    "play(generated_rhythm_complete)"
   ]
  },
  {
   "cell_type": "markdown",
   "id": "dynamic-escape",
   "metadata": {},
   "source": [
    "<img src=\"bb07.png\">"
   ]
  },
  {
   "cell_type": "markdown",
   "id": "regulated-dating",
   "metadata": {},
   "source": [
    "Overall, here is how all notes in the generated rhythm relate to each other in terms of generative steps: in yellow the splits, in blue the preparations, in green the anticipations. Orange boxes highlight places where some notes \"steal time\" from other notes (because of anticipations)."
   ]
  },
  {
   "cell_type": "markdown",
   "id": "foreign-source",
   "metadata": {},
   "source": [
    "<img src=\"ColouredDerivation.png\">"
   ]
  },
  {
   "cell_type": "markdown",
   "id": "bulgarian-drawing",
   "metadata": {},
   "source": [
    "Now that we have the rhythm, we can add the melody:"
   ]
  },
  {
   "cell_type": "code",
   "execution_count": 65,
   "id": "developmental-activity",
   "metadata": {},
   "outputs": [
    {
     "data": {
      "image/png": "[encoded data removed]",
      "text/plain": [
       "<IPython.core.display.Image object>"
      ]
     },
     "metadata": {
      "image/png": {
       "height": 51,
       "width": 674
      }
     },
     "output_type": "display_data"
    }
   ],
   "source": [
    "melody_pitches = ['G4', 'G5', 'F5', 'Eb5', 'D5', 'C5', 'Bb4', 'Ab4', 'G5', 'F5']\n",
    "melody_durations = hierarchical_rhythm(complete_tree, root)\n",
    "melody = stream.Measure()\n",
    "melody.append(key.KeySignature(-3))\n",
    "for i in range(len(melody_pitches)):\n",
    "    melody.append(note.Note(pitch = melody_pitches[i], quarterLength = 4*melody_durations[i]))\n",
    "\n",
    "play(melody)\n",
    "melody.show()"
   ]
  },
  {
   "cell_type": "markdown",
   "id": "extreme-alliance",
   "metadata": {},
   "source": [
    "Note that we are representing the rhythm with no information about the meter: we are just juxtaposing durations that sum up to 17 quarter-notes. Nevertheless, you can probably perceive the metrical grid when listening to the rhythm alone. \n",
    "\n",
    "We can make the metrical grid explicit by having an isochronous beat played alongside the melody:"
   ]
  },
  {
   "cell_type": "code",
   "execution_count": 66,
   "id": "secret-inspiration",
   "metadata": {},
   "outputs": [],
   "source": [
    "s = stream.Score()\n",
    "s.append(stream.Part())\n",
    "s.append(stream.Part())\n",
    "\n",
    "s[0].append(melody)\n",
    "\n",
    "metrical_grid = ['1/4'] + [2/4]*8\n",
    "s[1].append(rhythm_from_sequence(metrical_grid))\n",
    "\n",
    "play(s)"
   ]
  },
  {
   "cell_type": "code",
   "execution_count": 67,
   "id": "fixed-raleigh",
   "metadata": {},
   "outputs": [
    {
     "data": {
      "image/png": "[encoded data removed]",
      "text/plain": [
       "<Figure size 720x432 with 1 Axes>"
      ]
     },
     "metadata": {
      "image/png": {
       "height": 382,
       "width": 584
      }
     },
     "output_type": "display_data"
    }
   ],
   "source": [
    "s.plot()"
   ]
  },
  {
   "cell_type": "markdown",
   "id": "tight-hotel",
   "metadata": {},
   "source": [
    "# 5. Nancarrow: Canonic techniques"
   ]
  },
  {
   "cell_type": "markdown",
   "id": "divine-southwest",
   "metadata": {},
   "source": [
    "Thomas, M. E. (2000). Nancarrow’s Canons: Projections of Temporal and Formal Structures. Perspectives of New Music, 38(2), 106–133. https://doi.org/10.2307/833661\n"
   ]
  },
  {
   "cell_type": "markdown",
   "id": "earned-marshall",
   "metadata": {},
   "source": [
    "Canons are based on imitations between two (or more) voices: one that proposes a subject to imitate (*dux*), and one that follows with an imitation (*comes*). The imitation may be varied in various ways. \n",
    "\n",
    "One canonic technique for rhythm is to have the imitation speeding up (or slowing down). This will result in the *dux* and the *comes* to be out of phase, except at one point. The point of synchrony can be set at the beginning (so that the two voices seem to *diverge*), at the end (so that the two voices seem to *converge*), or in the middle (so that the two voices seem to converge and then diverge). Here is an example with an isochronous rhythm."
   ]
  },
  {
   "cell_type": "code",
   "execution_count": 68,
   "id": "patent-wholesale",
   "metadata": {},
   "outputs": [],
   "source": [
    "####\n",
    "#ACCELERATING\n",
    "####\n",
    "\n",
    "#Set-up stream with two parts\n",
    "canon = stream.Measure()\n",
    "canon.insert(0, stream.Part())\n",
    "canon.insert(0, stream.Part())\n",
    "\n",
    "#number of rhythmic events\n",
    "length = 16\n",
    "\n",
    "#each note in the 'comes' lasts perc less than the preceding\n",
    "perc = .02\n",
    "\n",
    "#where do you want the two voices to be in sync?\n",
    "synchrony = 7 #synchrony = 1: divergent; synchrony = length: convergent; 1<synchrony<length: convergent-divergent\n",
    "\n",
    "#set start of the 'comes' in order to have synchrony at the desired place\n",
    "displace = sum([(1-perc)**k for k in range(synchrony-1)])-(synchrony-1)\n",
    "\n",
    "for i in range(length):\n",
    "    canon[0].insert(i, note.Note(64, quarterLength=1)) #dux (constant durations of 1 quarter-note)\n",
    "    canon[1].insert(-displace+sum([(1-perc)**k for k in range(i)]), note.Note(65, quarterLength=(1-perc)**i)) #comes (same as dux, but accelerating)\n",
    "    \n",
    "play(canon)"
   ]
  },
  {
   "cell_type": "code",
   "execution_count": 69,
   "id": "straight-march",
   "metadata": {},
   "outputs": [
    {
     "data": {
      "image/png": "[encoded data removed]",
      "text/plain": [
       "<Figure size 720x432 with 1 Axes>"
      ]
     },
     "metadata": {
      "image/png": {
       "height": 382,
       "width": 584
      }
     },
     "output_type": "display_data"
    }
   ],
   "source": [
    "canon.plot()"
   ]
  },
  {
   "cell_type": "markdown",
   "id": "reported-protection",
   "metadata": {},
   "source": [
    "Another technique is to have the *dux* and the *comes* playing at different tempos, in a constant ratio.  "
   ]
  },
  {
   "cell_type": "code",
   "execution_count": 70,
   "id": "graphic-squad",
   "metadata": {},
   "outputs": [],
   "source": [
    "####\n",
    "#CONSTANT RATIO\n",
    "####\n",
    "\n",
    "#Setup stream with two parts\n",
    "canon = stream.Measure()\n",
    "canon.insert(0, stream.Part())\n",
    "canon.insert(0, stream.Part())\n",
    "\n",
    "#number of rhythmic events\n",
    "length = 16\n",
    "\n",
    "#tempo ratio\n",
    "ratio = 4/5\n",
    "\n",
    "#where do you want the two voices to be in sync?\n",
    "synchrony = length #synchrony = 1: divergent; synchrony = length: convergent; 1<synchrony<length: convergent-divergent\n",
    "\n",
    "#set start of the 'comes' in order to have synchrony at the desired place\n",
    "displace = ratio*(synchrony -1) - (synchrony-1)\n",
    "\n",
    "for i in range(length):\n",
    "    canon[0].insert(i, note.Note(64, quarterLength=1)) #dux (constant durations of 1 quarter-note)\n",
    "    canon[1].insert(-displace+ratio*i, note.Note(65, quarterLength=ratio)) #comes (same as dux, but at a different tempo)\n",
    "\n",
    "play(canon)"
   ]
  },
  {
   "cell_type": "code",
   "execution_count": 71,
   "id": "ignored-installation",
   "metadata": {},
   "outputs": [
    {
     "data": {
      "image/png": "[encoded data removed]",
      "text/plain": [
       "<Figure size 720x432 with 1 Axes>"
      ]
     },
     "metadata": {
      "image/png": {
       "height": 367,
       "width": 584
      }
     },
     "output_type": "display_data"
    }
   ],
   "source": [
    "canon.plot(title = '')"
   ]
  },
  {
   "cell_type": "markdown",
   "id": "absolute-livestock",
   "metadata": {},
   "source": [
    "##### Exercise: Rhythmic canon\n",
    "\n",
    "In the preceding examples, the rhythm is just a constant beat. Enrich one of the examples (either the accelerating canon or the constant-ratio canon) by replacing the uniform rhythm with a more interesting one. Generate a 4-bar rhythm (16 quarter-note beats) with either a markovian or a hierarchical approach, and feed the new duration values into the *dux* and the *comes* of the canon.     \n",
    "\n",
    "*Hints*\n",
    "- The durations of the notes in the examples are specified in the parameter `quarterLength` of `note.Note` objects. These are the values you will need to change!\n",
    "- If you choose to reproduce an accelerating canon, you will need to shorten the durations in your rhythm progressively as a function of time, compared to the non-accelerating version. \n",
    "- To generate rhythm with a markovian approach, you need to come up with transition probabilities (or infer them from some pre-existing stochastic process). You should also make sure the rhythm you generate fits the desired length of four 4/4 bars.\n",
    "- To generate a rhythm with a hierarchical approach, you need to come up with a \"recipe\" (a derivation tree) specifying what rules you want to apply. Since we look for a rhythm spanning four 4/4 bars, the root category in this case has parameters 0, 4, 0. Note that rule applications can also be selected randomly if you wish! "
   ]
  },
  {
   "cell_type": "code",
   "execution_count": 146,
   "id": "induced-headline",
   "metadata": {},
   "outputs": [
    {
     "data": {
      "image/png": "[encoded data removed]",
      "text/plain": [
       "<IPython.core.display.Image object>"
      ]
     },
     "metadata": {
      "image/png": {
       "height": 54,
       "width": 674
      }
     },
     "output_type": "display_data"
    },
    {
     "data": {
      "image/png": "[encoded data removed]",
      "text/plain": [
       "<Figure size 720x432 with 1 Axes>"
      ]
     },
     "metadata": {
      "image/png": {
       "height": 367,
       "width": 584
      }
     },
     "output_type": "display_data"
    }
   ],
   "source": [
    "# Generating rhythm using hierarchical approach\n",
    "root = rhythmic_category(0, 4, 0)\n",
    "tree = [\n",
    "    rule('split', 1/2, 0),\n",
    "    [\n",
    "        rule('split', 1/2, 1/8),\n",
    "        [\n",
    "            rule('split', 1/2, 0),\n",
    "            [],\n",
    "            [\n",
    "                rule('split', 1/4, 0),\n",
    "                [],\n",
    "                []\n",
    "            ]\n",
    "        ],\n",
    "        [\n",
    "            rule('split', 1/2, 1/8),\n",
    "            [\n",
    "                rule('split', 1/4, 0),\n",
    "                [\n",
    "                    rule('anticipate'), \n",
    "                    []\n",
    "                ],\n",
    "                []\n",
    "            ],\n",
    "            [\n",
    "                rule('split', 1/2, 0),\n",
    "                [\n",
    "                    rule('prepare'), \n",
    "                    [],\n",
    "                    []\n",
    "                ],\n",
    "                []\n",
    "            ]\n",
    "        ]\n",
    "    ],\n",
    "    [\n",
    "        rule('split', 1/2, 1/8),\n",
    "        [\n",
    "            rule('split', 1/2, 1/8),\n",
    "            [],\n",
    "            [\n",
    "                rule('split', 1/4, 0),\n",
    "                [\n",
    "                    rule('prepare'),\n",
    "                    [],\n",
    "                    []\n",
    "                ],\n",
    "                []\n",
    "            ]\n",
    "        ],\n",
    "        [\n",
    "            rule('split', 1/2, 0),\n",
    "            [\n",
    "                rule('split', 1/2, 0),\n",
    "                [\n",
    "                    rule('split', 1/2, 0),\n",
    "                    [\n",
    "                        rule('anticipate'),\n",
    "                        []\n",
    "                    ],\n",
    "                    []\n",
    "                ],\n",
    "                []\n",
    "            ],\n",
    "            [\n",
    "                rule('split', 1/2, 0),\n",
    "                [],\n",
    "                []\n",
    "            ]\n",
    "        ]\n",
    "    ]\n",
    "]\n",
    "# Getting sequence from tree\n",
    "rhythm_seq = hierarchical_rhythm(tree, root)\n",
    "\n",
    "# Displaying and playing the rhythm\n",
    "rhythm = rhythm_from_sequence(rhythm_seq, '4/4')\n",
    "rhythm.show()\n",
    "play(rhythm)\n",
    "\n",
    "# Creating the canon\n",
    "canon = stream.Measure()\n",
    "canon.insert(0, stream.Part())\n",
    "canon.insert(0, stream.Part())\n",
    "\n",
    "# Tempo ratio\n",
    "ratio = 3/4\n",
    "\n",
    "# Synchrony on 17th note = at the end\n",
    "synchrony = 17\n",
    "displace = (1 - ratio)  * (synchrony - 1)\n",
    "\n",
    "# Starting positions\n",
    "pos1 = 0\n",
    "pos2 = displace\n",
    "\n",
    "for i in range(len(rhythm_seq)):\n",
    "    # Note duration\n",
    "    dur = rhythm_seq[i]*4\n",
    "    canon[0].insert(pos1, note.Note(64, quarterLength=dur))\n",
    "    canon[1].insert(pos2, note.Note(67, quarterLength=dur*ratio))\n",
    "    # Keep track of positions\n",
    "    pos1 += dur\n",
    "    pos2 += dur*ratio\n",
    "    \n",
    "# Display and play the canon\n",
    "canon.plot(title = '')\n",
    "play(canon)"
   ]
  },
  {
   "cell_type": "markdown",
   "id": "gentle-legend",
   "metadata": {},
   "source": [
    "## Study 14"
   ]
  },
  {
   "cell_type": "markdown",
   "id": "approved-sherman",
   "metadata": {},
   "source": [
    "We replicate here one of Nancarrow's canonic studies for player piano. Specifically, we reconstruct the rhythmic template of Study 14. We do not attempt to replicate the pitches of the notes comprising the piece, because those are not part of the algorithmic conception of the piece: they are chosen \"by hand\" by the composer. \n",
    "\n",
    "Study 14 is a canon with two voices, a \"slow\" voice (the dux) and a \"fast\" voice (the comes), with a tempo ratio of 4/5. The two voices play the same rhythm (at different tempos). The rhythm in each voice is obtained by the superposition of 4 rhythmic streams. Each rhythmic stram is based on a different base duration n (with n = 3, 4, 5, or 6 eigth-notes), and cycles through the duration values n, n+1, n+2, n+1 etc.\n",
    "\n",
    "The arrangement of the two voices is a converging-diverging canon, with a point of convergence at the middle of the piece. "
   ]
  },
  {
   "cell_type": "code",
   "execution_count": 147,
   "id": "grand-sudan",
   "metadata": {},
   "outputs": [],
   "source": [
    "base_durations = [3,4,5,6]\n",
    "unit = 0.5 #duration unit in quarter lengths\n",
    "ratio = 4/5 #an eigth note of the faster voice lasts 4/5 of an eigth note of the slower voice\n",
    "\n",
    "length = 336 #overall length in eigth-notes\n",
    "displacement = (1-ratio)*(length/2) # displacement of the 'comes' to get simultaneity at midpoint\n",
    "\n",
    "def rhythmic_series(n):\n",
    "    #Series of IOIs for each base duration n\n",
    "    return [n, n+1, n+2, n+1]\n",
    "\n",
    "#set-up stream with two parts\n",
    "study14 = stream.Measure()\n",
    "study14.insert(0, stream.Part())\n",
    "study14.insert(0, stream.Part())\n",
    "\n",
    "for rhythmic_stream in base_durations: #for each base duration\n",
    "    \n",
    "    cumulative = [] #keep track of the progress in the piece \n",
    "    series = rhythmic_series(rhythmic_stream) #generate the series of IOIs from the base duration\n",
    "    \n",
    "    while sum(cumulative)<=length: #iterate until IOIs exceed the piece length \n",
    "        \n",
    "        IOI = series[len(cumulative)%4] #current IOI (in the 4-cycle) \n",
    "        study14[0].insert(sum(cumulative)*unit, note.Note(57+rhythmic_stream, quarterLength=unit)) #dux: each stream is played on a different note starting from C4 (midi = 60)\n",
    "        study14[1].insert((displacement+sum(cumulative)*ratio)*unit, note.Note(57+12+rhythmic_stream, quarterLength=unit*ratio)) #comes: each stream is played on a different note starting from C5 (midi = 72)\n",
    "        \n",
    "        #update cumulative for the given stream\n",
    "        cumulative += [IOI]"
   ]
  },
  {
   "cell_type": "code",
   "execution_count": 148,
   "id": "differential-tours",
   "metadata": {},
   "outputs": [
    {
     "data": {
      "image/png": "[encoded data removed]",
      "text/plain": [
       "<Figure size 720x432 with 1 Axes>"
      ]
     },
     "metadata": {
      "image/png": {
       "height": 382,
       "width": 584
      }
     },
     "output_type": "display_data"
    }
   ],
   "source": [
    "study14.plot(title = 'C. Nancarrow: Study 14 - rhythmic components')"
   ]
  },
  {
   "cell_type": "code",
   "execution_count": 149,
   "id": "unique-subscriber",
   "metadata": {},
   "outputs": [
    {
     "data": {
      "text/html": [
       "\n",
       "                <div id='midiPlayerDiv60456'></div>\n",
       "                <link rel=\"stylesheet\" href=\"//cuthbertLab.github.io/music21j/css/m21.css\"\n",
       "                    type=\"text/css\" />\n",
       "                <script>\n",
       "                require.config({\n",
       "                    paths: {'music21': '//cuthbertLab.github.io/music21j/src/music21'}\n",
       "                });\n",
       "                require(['music21'], function() {\n",
       "                               mp = new music21.miditools.MidiPlayer();\n",
       "                               mp.addPlayer('#midiPlayerDiv60456');\n",
       "                               mp.base64Load('data:audio/midi;base64,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');\n",
       "                        });\n",
       "                </script>"
      ],
      "text/plain": [
       "<IPython.core.display.HTML object>"
      ]
     },
     "metadata": {},
     "output_type": "display_data"
    }
   ],
   "source": [
    "study14.show('midi')"
   ]
  },
  {
   "cell_type": "code",
   "execution_count": null,
   "id": "sexual-species",
   "metadata": {},
   "outputs": [],
   "source": []
  }
 ],
 "metadata": {
  "kernelspec": {
   "display_name": "Python 3",
   "language": "python",
   "name": "python3"
  },
  "language_info": {
   "codemirror_mode": {
    "name": "ipython",
    "version": 3
   },
   "file_extension": ".py",
   "mimetype": "text/x-python",
   "name": "python",
   "nbconvert_exporter": "python",
   "pygments_lexer": "ipython3",
   "version": "3.8.8"
  }
 },
 "nbformat": 4,
 "nbformat_minor": 5
}
